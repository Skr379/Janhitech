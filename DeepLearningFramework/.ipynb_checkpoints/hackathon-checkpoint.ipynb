{
 "cells": [
  {
   "cell_type": "code",
   "execution_count": 245,
   "metadata": {},
   "outputs": [],
   "source": [
    "import keras"
   ]
  },
  {
   "cell_type": "code",
   "execution_count": 246,
   "metadata": {},
   "outputs": [],
   "source": [
    "import os\n",
    "import numpy\n",
    "# from keras.datasets import patient\n",
    "from keras.models import Sequential\n",
    "from keras.layers import Dense\n",
    "from keras.layers import LSTM\n",
    "from keras.layers.embeddings import Embedding\n",
    "from keras.preprocessing import sequence\n",
    "from keras.wrappers.scikit_learn import KerasClassifier\n",
    "from keras.utils import np_utils\n",
    "from keras.models import model_from_json\n",
    "\n",
    "import pandas\n",
    "from sklearn.model_selection import train_test_split\n",
    "from sklearn.model_selection import cross_val_score\n",
    "from sklearn.model_selection import KFold\n",
    "from sklearn.preprocessing import LabelEncoder\n",
    "from sklearn.feature_extraction.text import CountVectorizer\n",
    "from io import StringIO\n",
    "\n",
    "# fix random seed for reproducibility\n",
    "numpy.random.seed(7)"
   ]
  },
  {
   "cell_type": "code",
   "execution_count": 247,
   "metadata": {
    "scrolled": true
   },
   "outputs": [
    {
     "name": "stdout",
     "output_type": "stream",
     "text": [
      "C:\\Users\\SiSharma\\AnacondaProjects\n",
      "0        ['muscle aches', 'weakness', 'sore throat', 'high fever', 'coughing', 'headache']\n",
      "1                                             ['pain', 'swelling', 'stiffness', 'redness']\n",
      "2                        ['blood discharge', 'coughing', 'fever', 'fatigue', 'chest pain']\n",
      "3                                                ['jaundice', 'weight loss', 'nose bleed']\n",
      "4                                             ['pain during urination', 'blood discharge']\n",
      "5                                          ['swelling', 'blood discharge', 'chronic pain']\n",
      "6                                                         ['memory loss', 'blurry vision']\n",
      "7               ['muscle aches', 'chills', 'nausea', 'vomiting', 'high fever', 'headache']\n",
      "8                                             ['pain', 'swelling', 'stiffness', 'redness']\n",
      "9                              ['palpitation', 'weakness', 'faster heartbeat', 'sweating']\n",
      "10              ['muscle aches', 'chills', 'nausea', 'vomiting', 'high fever', 'headache']\n",
      "11                                       ['muscle aches', 'fever', 'headache', 'diarrhea']\n",
      "12                                         ['swelling', 'blood discharge', 'chronic pain']\n",
      "13                                               ['jaundice', 'weight loss', 'nose bleed']\n",
      "14                                                        ['memory loss', 'blurry vision']\n",
      "15                                ['sneezing', 'nasal dryness', 'sore throat', 'headache']\n",
      "16                             ['palpitation', 'weakness', 'faster heartbeat', 'sweating']\n",
      "17                       ['muscle aches', 'nausea', 'vomiting', 'fatigue', 'genital pain']\n",
      "18                                ['sneezing', 'nasal dryness', 'sore throat', 'headache']\n",
      "19                       ['blood discharge', 'coughing', 'fever', 'fatigue', 'chest pain']\n",
      "20                                            ['pain', 'swelling', 'stiffness', 'redness']\n",
      "21                                               ['jaundice', 'weight loss', 'nose bleed']\n",
      "22                                         ['swelling', 'blood discharge', 'chronic pain']\n",
      "23              ['muscle aches', 'chills', 'nausea', 'vomiting', 'high fever', 'headache']\n",
      "24                    ['dizziness', 'blurred vision', 'weakness', 'paralysis', 'headache']\n",
      "25                                         ['swelling', 'blood discharge', 'chronic pain']\n",
      "26                                                        ['memory loss', 'blurry vision']\n",
      "27       ['muscle aches', 'weakness', 'sore throat', 'high fever', 'coughing', 'headache']\n",
      "28                                       ['muscle aches', 'fever', 'headache', 'diarrhea']\n",
      "29                                                        ['memory loss', 'blurry vision']\n",
      "                                               ...                                        \n",
      "99969                                               ['wheezing', 'coughing', 'chest pain']\n",
      "99970                    ['muscle aches', 'nausea', 'vomiting', 'fatigue', 'genital pain']\n",
      "99971                                                ['tired', 'constipation', 'headache']\n",
      "99972                                      ['swelling', 'blood discharge', 'chronic pain']\n",
      "99973           ['muscle aches', 'chills', 'nausea', 'vomiting', 'high fever', 'headache']\n",
      "99974                    ['blood discharge', 'coughing', 'fever', 'fatigue', 'chest pain']\n",
      "99975                                    ['muscle aches', 'fever', 'headache', 'diarrhea']\n",
      "99976                     ['dry mouth', 'blurred vision', 'vomiting', 'nausea', 'fatigue']\n",
      "99977                             ['sneezing', 'nasal dryness', 'sore throat', 'headache']\n",
      "99978                    ['blood discharge', 'coughing', 'fever', 'fatigue', 'chest pain']\n",
      "99979                    ['muscle aches', 'nausea', 'vomiting', 'fatigue', 'genital pain']\n",
      "99980                          ['palpitation', 'weakness', 'faster heartbeat', 'sweating']\n",
      "99981                                    ['muscle aches', 'fever', 'headache', 'diarrhea']\n",
      "99982                    ['muscle aches', 'nausea', 'vomiting', 'fatigue', 'genital pain']\n",
      "99983                                               ['wheezing', 'coughing', 'chest pain']\n",
      "99984                                         ['pain during urination', 'blood discharge']\n",
      "99985                                         ['pain during urination', 'blood discharge']\n",
      "99986                                         ['pain during urination', 'blood discharge']\n",
      "99987                 ['dizziness', 'blurred vision', 'weakness', 'paralysis', 'headache']\n",
      "99988                                ['fatigue', 'muscle aches', 'chills', 'constipation']\n",
      "99989                    ['blood discharge', 'coughing', 'fever', 'fatigue', 'chest pain']\n",
      "99990                                      ['swelling', 'blood discharge', 'chronic pain']\n",
      "99991                                                  ['learning disability', 'epilepsy']\n",
      "99992                                                ['tired', 'constipation', 'headache']\n",
      "99993                                                ['tired', 'constipation', 'headache']\n",
      "99994                                            ['jaundice', 'weight loss', 'nose bleed']\n",
      "99995                                                  ['learning disability', 'epilepsy']\n",
      "99996           ['muscle aches', 'chills', 'nausea', 'vomiting', 'high fever', 'headache']\n",
      "99997                                ['fatigue', 'muscle aches', 'chills', 'constipation']\n",
      "99998                                               ['wheezing', 'coughing', 'chest pain']\n",
      "Name: symptoms, Length: 99999, dtype: object\n",
      "17\n",
      "[0. 0. 0. 0. 0. 0. 0. 0. 0. 0. 0. 0. 0. 0. 0. 0. 0. 1.]\n"
     ]
    }
   ],
   "source": [
    "pandas.set_option('display.max_colwidth', 1000)\n",
    "print(os.getcwd())\n",
    "# dataset = pandas.read_csv(StringIO(s), quotechar='\"', skipinitialspace=True, error_bad_lines = False)\n",
    "dataset = pandas.read_csv('record.csv')\n",
    "dataset = pandas.DataFrame(dataset)\n",
    "dataset = dataset.dropna(axis=0, how='any')\n",
    "X = dataset['symptoms']\n",
    "Y = dataset['disease']\n",
    "\n",
    "# encode class values as integers\n",
    "encoder_Y = LabelEncoder()\n",
    "docs2 = [\"arthritis\",\"asthma\",\"ASD\",\"cancer\",\"chlamydia\",\"ebola\",\"diabetes\",\"malaria\",\"HIV\",\"cirrhosis\",\"migraine\", \n",
    "        \"heart disease\",\"rhinovirus\",\"influenza\",\"stroke\",\"alzheimer disease\",\"tuberculosis\",\"thyroid\"]\n",
    "encoder_Y.fit(docs2)\n",
    "encoded_Y = encoder_Y.transform(Y)\n",
    "print(encoded_Y[2])\n",
    "# convert integers to dummy variables (i.e. one hot encoded)\n",
    "Y = np_utils.to_categorical(encoded_Y)\n",
    "X_train, X_test, Y_train, Y_test = train_test_split(X, Y, test_size=0.2)"
   ]
  },
  {
   "cell_type": "code",
   "execution_count": 236,
   "metadata": {},
   "outputs": [
    {
     "name": "stdout",
     "output_type": "stream",
     "text": [
      "{'headache': 24, 'nausea': 34, 'vomiting': 48, 'high': 26, 'fever': 22, 'diarrhea': 12, 'fatigue': 21, 'muscle': 32, 'aches': 1, 'coughing': 11, 'pain': 36, 'stiffness': 42, 'swelling': 43, 'redness': 39, 'wheezing': 51, 'learning': 28, 'disability': 13, 'epilepsy': 19, 'chronic': 9, 'blood': 5, 'discharge': 14, 'sneezing': 40, 'during': 18, 'urination': 46, 'genital': 23, 'palpitation': 37, 'weakness': 49, 'faster': 20, 'heartbeat': 25, 'nasal': 33, 'dryness': 17, 'sore': 41, 'throat': 44, 'abdominal': 0, 'weight': 50, 'loss': 29, 'chills': 8, 'chest': 7, 'back': 2, 'tired': 45, 'blindness': 4, 'blurred': 6, 'vision': 47, 'dry': 16, 'mouth': 31, 'paralysis': 38, 'dizziness': 15, 'memory': 30, 'nose': 35, 'bleed': 3, 'jaundice': 27, 'constipation': 10}\n"
     ]
    },
    {
     "ename": "AttributeError",
     "evalue": "'Series' object has no attribute 'getType'",
     "output_type": "error",
     "traceback": [
      "\u001b[1;31m---------------------------------------------------------------------------\u001b[0m",
      "\u001b[1;31mAttributeError\u001b[0m                            Traceback (most recent call last)",
      "\u001b[1;32m<ipython-input-236-f7cbc6388469>\u001b[0m in \u001b[0;36m<module>\u001b[1;34m()\u001b[0m\n\u001b[0;32m     16\u001b[0m \u001b[0mprint\u001b[0m\u001b[1;33m(\u001b[0m\u001b[0mvectorizer\u001b[0m\u001b[1;33m.\u001b[0m\u001b[0mvocabulary_\u001b[0m\u001b[1;33m)\u001b[0m\u001b[1;33m\u001b[0m\u001b[0m\n\u001b[0;32m     17\u001b[0m \u001b[1;31m# encode document\u001b[0m\u001b[1;33m\u001b[0m\u001b[1;33m\u001b[0m\u001b[0m\n\u001b[1;32m---> 18\u001b[1;33m \u001b[0mprint\u001b[0m\u001b[1;33m(\u001b[0m\u001b[0mX_train\u001b[0m\u001b[1;33m.\u001b[0m\u001b[0mgetType\u001b[0m\u001b[1;33m(\u001b[0m\u001b[1;33m)\u001b[0m\u001b[1;33m)\u001b[0m\u001b[1;33m\u001b[0m\u001b[0m\n\u001b[0m\u001b[0;32m     19\u001b[0m \u001b[0mX_train_vector\u001b[0m \u001b[1;33m=\u001b[0m \u001b[0mvectorizer\u001b[0m\u001b[1;33m.\u001b[0m\u001b[0mtransform\u001b[0m\u001b[1;33m(\u001b[0m\u001b[0mX_train\u001b[0m\u001b[1;33m)\u001b[0m\u001b[1;33m\u001b[0m\u001b[0m\n\u001b[0;32m     20\u001b[0m \u001b[0mX_test_vector\u001b[0m \u001b[1;33m=\u001b[0m \u001b[0mvectorizer\u001b[0m\u001b[1;33m.\u001b[0m\u001b[0mtransform\u001b[0m\u001b[1;33m(\u001b[0m\u001b[0mX_test\u001b[0m\u001b[1;33m)\u001b[0m\u001b[1;33m\u001b[0m\u001b[0m\n",
      "\u001b[1;32m~\\AppData\\Roaming\\Python\\Python36\\site-packages\\pandas\\core\\generic.py\u001b[0m in \u001b[0;36m__getattr__\u001b[1;34m(self, name)\u001b[0m\n\u001b[0;32m   3612\u001b[0m             \u001b[1;32mif\u001b[0m \u001b[0mname\u001b[0m \u001b[1;32min\u001b[0m \u001b[0mself\u001b[0m\u001b[1;33m.\u001b[0m\u001b[0m_info_axis\u001b[0m\u001b[1;33m:\u001b[0m\u001b[1;33m\u001b[0m\u001b[0m\n\u001b[0;32m   3613\u001b[0m                 \u001b[1;32mreturn\u001b[0m \u001b[0mself\u001b[0m\u001b[1;33m[\u001b[0m\u001b[0mname\u001b[0m\u001b[1;33m]\u001b[0m\u001b[1;33m\u001b[0m\u001b[0m\n\u001b[1;32m-> 3614\u001b[1;33m             \u001b[1;32mreturn\u001b[0m \u001b[0mobject\u001b[0m\u001b[1;33m.\u001b[0m\u001b[0m__getattribute__\u001b[0m\u001b[1;33m(\u001b[0m\u001b[0mself\u001b[0m\u001b[1;33m,\u001b[0m \u001b[0mname\u001b[0m\u001b[1;33m)\u001b[0m\u001b[1;33m\u001b[0m\u001b[0m\n\u001b[0m\u001b[0;32m   3615\u001b[0m \u001b[1;33m\u001b[0m\u001b[0m\n\u001b[0;32m   3616\u001b[0m     \u001b[1;32mdef\u001b[0m \u001b[0m__setattr__\u001b[0m\u001b[1;33m(\u001b[0m\u001b[0mself\u001b[0m\u001b[1;33m,\u001b[0m \u001b[0mname\u001b[0m\u001b[1;33m,\u001b[0m \u001b[0mvalue\u001b[0m\u001b[1;33m)\u001b[0m\u001b[1;33m:\u001b[0m\u001b[1;33m\u001b[0m\u001b[0m\n",
      "\u001b[1;31mAttributeError\u001b[0m: 'Series' object has no attribute 'getType'"
     ]
    }
   ],
   "source": [
    "\n",
    "# define 5 documents\n",
    "docs = [\"headache\",\"nausea\",\"vomiting\",\"high fever\",\"diarrhea\",\"fatigue\",\"muscle aches\",\"coughing\",\"pain\",\"stiffness\",\n",
    "        \"swelling\",\"redness\",\"wheezing\",\"learning disability\",\"epilepsy\",\"chronic pain\",\"blood discharge\",\"sneezing\",\n",
    "        \"pain during urination\",\"genital pain\",\"palpitation\",\"weakness\",\"faster heartbeat\", \"nasal dryness\",\"sore throat\",\n",
    "        \"abdominal pain\",\"weight loss\",\"chills\",\"chest pain\",\"back pain\",\"tired\",\"blindness\",\"blurred vision\",\"dry mouth\",\n",
    "        \"paralysis\",\"dizziness\",\"memory loss\",\"nose bleed\",\"jaundice\",\"constipation\"]\n",
    "\n",
    "vocab_size = 70\n",
    "max_review_length = 200\n",
    "MAX_NUM_WORDS = 1000\n",
    "vectorizer = CountVectorizer()\n",
    "# tokenize and build vocab\n",
    "vectorizer.fit(docs)\n",
    "# summarize\n",
    "print(vectorizer.vocabulary_)\n",
    "# encode document\n",
    "X_train_vector = vectorizer.transform(X_train)\n",
    "X_test_vector = vectorizer.transform(X_test)\n",
    "X_train =  X_train_vector.toarray()\n",
    "X_test =  X_test_vector.toarray()\n",
    "#padding the data\n",
    "X_train = keras.preprocessing.sequence.pad_sequences(X_train, maxlen=max_review_length, dtype='object', \n",
    "                                           padding='pre', truncating='pre', value=0.)\n",
    "X_test = keras.preprocessing.sequence.pad_sequences(X_test, maxlen=max_review_length, dtype='object', \n",
    "                                           padding='pre', truncating='pre', value=0.)\n"
   ]
  },
  {
   "cell_type": "code",
   "execution_count": 224,
   "metadata": {},
   "outputs": [
    {
     "name": "stdout",
     "output_type": "stream",
     "text": [
      "_________________________________________________________________\n",
      "Layer (type)                 Output Shape              Param #   \n",
      "=================================================================\n",
      "embedding_9 (Embedding)      (None, 200, 32)           1280      \n",
      "_________________________________________________________________\n",
      "lstm_9 (LSTM)                (None, 100)               53200     \n",
      "_________________________________________________________________\n",
      "dense_9 (Dense)              (None, 18)                1818      \n",
      "=================================================================\n",
      "Total params: 56,298\n",
      "Trainable params: 56,298\n",
      "Non-trainable params: 0\n",
      "_________________________________________________________________\n",
      "None\n",
      "Train on 79999 samples, validate on 20000 samples\n",
      "Epoch 1/3\n",
      "79999/79999 [==============================] - 205s 3ms/step - loss: 0.7671 - acc: 0.7807 - val_loss: 0.4270 - val_acc: 0.8571\n",
      "Epoch 2/3\n",
      "79999/79999 [==============================] - 202s 3ms/step - loss: 0.4735 - acc: 0.8462 - val_loss: 0.4210 - val_acc: 0.8571\n",
      "Epoch 3/3\n",
      "79999/79999 [==============================] - 202s 3ms/step - loss: 0.4210 - acc: 0.8570 - val_loss: 0.4218 - val_acc: 0.8571\n"
     ]
    },
    {
     "data": {
      "text/plain": [
       "<keras.callbacks.History at 0x1113e089b00>"
      ]
     },
     "execution_count": 224,
     "metadata": {},
     "output_type": "execute_result"
    }
   ],
   "source": [
    "# create the model\n",
    "embedding_vecor_length = 32\n",
    "model = Sequential()\n",
    "model.add(Embedding(200, embedding_vecor_length, input_length=max_review_length))\n",
    "model.add(LSTM(100))\n",
    "model.add(Dense(18, activation='softmax'))\n",
    "model.compile(loss='categorical_crossentropy', optimizer='adam', metrics=['accuracy'])\n",
    "print(model.summary())\n",
    "model.fit(X_train, Y_train, validation_data=(X_test, Y_test), epochs=3, batch_size=64)"
   ]
  },
  {
   "cell_type": "code",
   "execution_count": 225,
   "metadata": {},
   "outputs": [
    {
     "name": "stdout",
     "output_type": "stream",
     "text": [
      "Accuracy: 85.72%\n"
     ]
    }
   ],
   "source": [
    "# Final evaluation of the model\n",
    "scores = model.evaluate(X_train, Y_train, verbose=0)\n",
    "print(\"Accuracy: %.2f%%\" % (scores[1]*100))"
   ]
  },
  {
   "cell_type": "code",
   "execution_count": 226,
   "metadata": {},
   "outputs": [
    {
     "name": "stdout",
     "output_type": "stream",
     "text": [
      "Accuracy: 85.71%\n"
     ]
    }
   ],
   "source": [
    "# Final evaluation of the model\n",
    "scores = model.evaluate(X_test, Y_test, verbose=0)\n",
    "print(\"Accuracy: %.2f%%\" % (scores[1]*100))"
   ]
  },
  {
   "cell_type": "code",
   "execution_count": 228,
   "metadata": {},
   "outputs": [
    {
     "name": "stdout",
     "output_type": "stream",
     "text": [
      "Saved model to disk\n"
     ]
    }
   ],
   "source": [
    "# serialize model to JSON\n",
    "model_json = model.to_json()\n",
    "with open(\"D:\\\\Hackathon\\\\trained_model\\\\model_categorical.json\", \"w\") as json_file:\n",
    "    json_file.write(model_json)\n",
    "# serialize weights to HDF5\n",
    "model.save_weights(\"D:\\\\Hackathon\\\\trained_model\\\\model_categorical.h5\")\n",
    "print(\"Saved model to disk\")\n",
    " \n",
    "# later...\n",
    " \n",
    "# # load json and create model\n",
    "# json_file = open('model.json', 'r')\n",
    "# loaded_model_json = json_file.read()\n",
    "# json_file.close()\n",
    "# loaded_model = model_from_json(loaded_model_json)\n",
    "# # load weights into new model\n",
    "# loaded_model.load_weights(\"model.h5\")\n",
    "# print(\"Loaded model from disk\")\n",
    " \n",
    "# # evaluate loaded model on test data\n",
    "# loaded_model.compile(loss='categorical_crossentropy', optimizer='adam', metrics=['accuracy'])\n",
    "# score = loaded_model.evaluate(X, Y, verbose=0)\n",
    "# print(\"%s: %.2f%%\" % (loaded_model.metrics_names[1], score[1]*100))"
   ]
  },
  {
   "cell_type": "code",
   "execution_count": 14,
   "metadata": {},
   "outputs": [
    {
     "ename": "ValueError",
     "evalue": "Error when checking : expected embedding_2_input to have shape (500,) but got array with shape (1,)",
     "output_type": "error",
     "traceback": [
      "\u001b[1;31m---------------------------------------------------------------------------\u001b[0m",
      "\u001b[1;31mValueError\u001b[0m                                Traceback (most recent call last)",
      "\u001b[1;32m<ipython-input-14-34d44dd8f096>\u001b[0m in \u001b[0;36m<module>\u001b[1;34m()\u001b[0m\n\u001b[1;32m----> 1\u001b[1;33m \u001b[0mprint\u001b[0m\u001b[1;33m(\u001b[0m\u001b[0mmodel\u001b[0m\u001b[1;33m.\u001b[0m\u001b[0mpredict\u001b[0m\u001b[1;33m(\u001b[0m\u001b[0mX_test\u001b[0m\u001b[1;33m[\u001b[0m\u001b[1;36m1\u001b[0m\u001b[1;33m]\u001b[0m\u001b[1;33m)\u001b[0m\u001b[1;33m)\u001b[0m\u001b[1;33m\u001b[0m\u001b[0m\n\u001b[0m",
      "\u001b[1;32m~\\AppData\\Local\\Continuum\\anaconda3\\envs\\tensorflow\\lib\\site-packages\\keras\\models.py\u001b[0m in \u001b[0;36mpredict\u001b[1;34m(self, x, batch_size, verbose, steps)\u001b[0m\n\u001b[0;32m   1023\u001b[0m             \u001b[0mself\u001b[0m\u001b[1;33m.\u001b[0m\u001b[0mbuild\u001b[0m\u001b[1;33m(\u001b[0m\u001b[1;33m)\u001b[0m\u001b[1;33m\u001b[0m\u001b[0m\n\u001b[0;32m   1024\u001b[0m         return self.model.predict(x, batch_size=batch_size, verbose=verbose,\n\u001b[1;32m-> 1025\u001b[1;33m                                   steps=steps)\n\u001b[0m\u001b[0;32m   1026\u001b[0m \u001b[1;33m\u001b[0m\u001b[0m\n\u001b[0;32m   1027\u001b[0m     \u001b[1;32mdef\u001b[0m \u001b[0mpredict_on_batch\u001b[0m\u001b[1;33m(\u001b[0m\u001b[0mself\u001b[0m\u001b[1;33m,\u001b[0m \u001b[0mx\u001b[0m\u001b[1;33m)\u001b[0m\u001b[1;33m:\u001b[0m\u001b[1;33m\u001b[0m\u001b[0m\n",
      "\u001b[1;32m~\\AppData\\Local\\Continuum\\anaconda3\\envs\\tensorflow\\lib\\site-packages\\keras\\engine\\training.py\u001b[0m in \u001b[0;36mpredict\u001b[1;34m(self, x, batch_size, verbose, steps)\u001b[0m\n\u001b[0;32m   1815\u001b[0m         x = _standardize_input_data(x, self._feed_input_names,\n\u001b[0;32m   1816\u001b[0m                                     \u001b[0mself\u001b[0m\u001b[1;33m.\u001b[0m\u001b[0m_feed_input_shapes\u001b[0m\u001b[1;33m,\u001b[0m\u001b[1;33m\u001b[0m\u001b[0m\n\u001b[1;32m-> 1817\u001b[1;33m                                     check_batch_axis=False)\n\u001b[0m\u001b[0;32m   1818\u001b[0m         \u001b[1;32mif\u001b[0m \u001b[0mself\u001b[0m\u001b[1;33m.\u001b[0m\u001b[0mstateful\u001b[0m\u001b[1;33m:\u001b[0m\u001b[1;33m\u001b[0m\u001b[0m\n\u001b[0;32m   1819\u001b[0m             \u001b[1;32mif\u001b[0m \u001b[0mx\u001b[0m\u001b[1;33m[\u001b[0m\u001b[1;36m0\u001b[0m\u001b[1;33m]\u001b[0m\u001b[1;33m.\u001b[0m\u001b[0mshape\u001b[0m\u001b[1;33m[\u001b[0m\u001b[1;36m0\u001b[0m\u001b[1;33m]\u001b[0m \u001b[1;33m>\u001b[0m \u001b[0mbatch_size\u001b[0m \u001b[1;32mand\u001b[0m \u001b[0mx\u001b[0m\u001b[1;33m[\u001b[0m\u001b[1;36m0\u001b[0m\u001b[1;33m]\u001b[0m\u001b[1;33m.\u001b[0m\u001b[0mshape\u001b[0m\u001b[1;33m[\u001b[0m\u001b[1;36m0\u001b[0m\u001b[1;33m]\u001b[0m \u001b[1;33m%\u001b[0m \u001b[0mbatch_size\u001b[0m \u001b[1;33m!=\u001b[0m \u001b[1;36m0\u001b[0m\u001b[1;33m:\u001b[0m\u001b[1;33m\u001b[0m\u001b[0m\n",
      "\u001b[1;32m~\\AppData\\Local\\Continuum\\anaconda3\\envs\\tensorflow\\lib\\site-packages\\keras\\engine\\training.py\u001b[0m in \u001b[0;36m_standardize_input_data\u001b[1;34m(data, names, shapes, check_batch_axis, exception_prefix)\u001b[0m\n\u001b[0;32m    121\u001b[0m                             \u001b[1;34m': expected '\u001b[0m \u001b[1;33m+\u001b[0m \u001b[0mnames\u001b[0m\u001b[1;33m[\u001b[0m\u001b[0mi\u001b[0m\u001b[1;33m]\u001b[0m \u001b[1;33m+\u001b[0m \u001b[1;34m' to have shape '\u001b[0m \u001b[1;33m+\u001b[0m\u001b[1;33m\u001b[0m\u001b[0m\n\u001b[0;32m    122\u001b[0m                             \u001b[0mstr\u001b[0m\u001b[1;33m(\u001b[0m\u001b[0mshape\u001b[0m\u001b[1;33m)\u001b[0m \u001b[1;33m+\u001b[0m \u001b[1;34m' but got array with shape '\u001b[0m \u001b[1;33m+\u001b[0m\u001b[1;33m\u001b[0m\u001b[0m\n\u001b[1;32m--> 123\u001b[1;33m                             str(data_shape))\n\u001b[0m\u001b[0;32m    124\u001b[0m     \u001b[1;32mreturn\u001b[0m \u001b[0mdata\u001b[0m\u001b[1;33m\u001b[0m\u001b[0m\n\u001b[0;32m    125\u001b[0m \u001b[1;33m\u001b[0m\u001b[0m\n",
      "\u001b[1;31mValueError\u001b[0m: Error when checking : expected embedding_2_input to have shape (500,) but got array with shape (1,)"
     ]
    }
   ],
   "source": []
  },
  {
   "cell_type": "code",
   "execution_count": null,
   "metadata": {},
   "outputs": [],
   "source": []
  }
 ],
 "metadata": {
  "kernelspec": {
   "display_name": "Python 3",
   "language": "python",
   "name": "python3"
  },
  "language_info": {
   "codemirror_mode": {
    "name": "ipython",
    "version": 3
   },
   "file_extension": ".py",
   "mimetype": "text/x-python",
   "name": "python",
   "nbconvert_exporter": "python",
   "pygments_lexer": "ipython3",
   "version": "3.6.2"
  }
 },
 "nbformat": 4,
 "nbformat_minor": 2
}
