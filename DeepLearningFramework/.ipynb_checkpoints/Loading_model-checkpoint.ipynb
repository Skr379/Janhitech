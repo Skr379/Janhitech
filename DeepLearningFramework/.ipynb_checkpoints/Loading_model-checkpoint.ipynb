{
 "cells": [
  {
   "cell_type": "code",
   "execution_count": 73,
   "metadata": {},
   "outputs": [],
   "source": [
    "import numpy as np\n",
    "import flask\n",
    "import io\n",
    "\n",
    "import json\n",
    "from keras.models import model_from_json, load_model\n",
    "from keras.preprocessing.text import Tokenizer\n",
    "from keras.utils import np_utils\n",
    "from sklearn.preprocessing import LabelEncoder\n",
    "from sklearn.feature_extraction.text import CountVectorizer\n",
    "# initialize our Flask application and the Keras model\n",
    "app = flask.Flask(__name__)\n",
    "model = None"
   ]
  },
  {
   "cell_type": "code",
   "execution_count": 74,
   "metadata": {},
   "outputs": [],
   "source": [
    "def load_model():\n",
    "    from keras.models import model_from_json\n",
    "    global model\n",
    "    # Model reconstruction from JSON file\n",
    "    with open('D:\\\\Hackathon\\\\trained_model\\\\model.json', 'r') as f:\n",
    "        model = model_from_json(f.read())\n",
    "        \n",
    "    model.load_weights('D:\\\\Hackathon\\\\trained_model\\\\model.h5')"
   ]
  },
  {
   "cell_type": "code",
   "execution_count": 75,
   "metadata": {},
   "outputs": [],
   "source": [
    "def prepare_data(symptoms):\n",
    "    import keras\n",
    "    print(\"code related to preprocessing the get request will be put here\")\n",
    "    docs = [\"headache\",\"nausea\",\"vomiting\",\"high fever\",\"diarrhea\",\"fatigue\",\"muscle aches\",\"coughing\",\"pain\",\"stiffness\",\n",
    "           \"swelling\",\"redness\",\"wheezing\",\"learning disability\",\"epilepsy\",\"chronic pain\",\"blood discharge\",\"sneezing\",\n",
    "           \"pain during urination\",\"genital pain\",\"palpitation\",\"weakness\",\"faster heartbeat\", \"nasal dryness\",\"sore throat\",\n",
    "           \"abdominal pain\",\"weight loss\",\"chills\",\"chest pain\",\"back pain\",\"tired\",\"blindness\",\"blurred vision\",\"dry mouth\",\n",
    "           \"paralysis\",\"dizziness\",\"memory loss\",\"nose bleed\",\"jaundice\",\"constipation\"]\n",
    "\n",
    "    max_review_length = 200\n",
    "    vectorizer = CountVectorizer()\n",
    "    # tokenize and build vocab\n",
    "    vectorizer.fit(docs)\n",
    "    print(vectorizer.vocabulary_)\n",
    "    symptoms_list = []\n",
    "    symptoms_list.append(symptoms)\n",
    "    X_vector = vectorizer.transform(symptoms_list)\n",
    "    X = X_vector.toarray()\n",
    "    print(X)\n",
    "    X = keras.preprocessing.sequence.pad_sequences(X, maxlen=max_review_length, dtype='object', \n",
    "                                           padding='pre', truncating='pre', value=0.)\n",
    "    print(\"done preprocessing!!\")\n",
    "    return X"
   ]
  },
  {
   "cell_type": "code",
   "execution_count": 76,
   "metadata": {},
   "outputs": [],
   "source": [
    "def predict_diseases(predictions):\n",
    "    encoder_Y = LabelEncoder()\n",
    "    diseases = [\"arthritis\",\"asthma\",\"ASD\",\"cancer\",\"chlamydia\",\"ebola\",\"diabetes\",\"malaria\",\"HIV\",\"cirrhosis\",\"migraine\", \n",
    "                \"heart disease\",\"rhinovirus\",\"influenza\",\"stroke\",\"alzheimer disease\",\"tuberculosis\",\"thyroid\"]\n",
    "    encoder_Y.fit(diseases)\n",
    "    encoded_docs = encoder_Y.transform(diseases)\n",
    "    # convert integers to dummy variables (i.e. one hot encoded)\n",
    "    Y = np_utils.to_categorical(encoded_docs)\n",
    "    print(predictions)\n",
    "    predicted_probability = np.amax(predictions)\n",
    "    predicted_probability = float(\"{0:.2f}\".format(predicted_probability*100))\n",
    "    arg = np.argmax(predictions)\n",
    "    print(arg)\n",
    "    predicted_disease = encoder_Y.inverse_transform(arg)\n",
    "    print(predicted_disease)\n",
    "    predictions = {'probability':predicted_probability, 'disease':predicted_disease}\n",
    "#     predictions['probability']= str(predicted_probability)\n",
    "#     predictions['disease']= str(predicted_disease)\n",
    "    return predictions"
   ]
  },
  {
   "cell_type": "code",
   "execution_count": null,
   "metadata": {},
   "outputs": [],
   "source": [
    "@app.route(\"/predict\", methods=[\"POST\"])\n",
    "def predict():\n",
    "    # initialize the data dictionary that will be returned from the\n",
    "    # view\n",
    "    data = {\"success\": False}\n",
    "\n",
    "    # ensure an image was properly uploaded to our endpoint\n",
    "    if flask.request.method == \"POST\":\n",
    "        try:\n",
    "            post_data = flask.request.get_json(force=True)\n",
    "            print(post_data.get(\"symptoms\"))\n",
    "            # preprocess the image and prepare it for classification\n",
    "            X = prepare_data(str(post_data.get(\"symptoms\")))\n",
    "            \n",
    "            data[\"predictions\"] = []\n",
    "            # classify the input image and then initialize the list\n",
    "            # of predictions to return to the client\n",
    "            predicted = model.predict(X)\n",
    "            predictions = predict_diseases(predicted)\n",
    "            r = {\"probability\": str(predictions['probability']), \"disease\": predictions['disease'] }\n",
    "            data[\"predictions\"].append(r)\n",
    "            print(\"Prediction done\")\n",
    "            \n",
    "#             # loop over the results and add them to the list of\n",
    "#             # returned predictions\n",
    "#             for (imagenetID, label, prob) in results[0]:\n",
    "#                 r = {\"label\": label, \"probability\": float(prob)}\n",
    "#                 data[\"predictions\"].append(r)\n",
    "\n",
    "#             # indicate that the request was a success\n",
    "            data[\"success\"] = True\n",
    "        except ValueError:\n",
    "            print(ValueError)\n",
    "\n",
    "    # return the data dictionary as a JSON response\n",
    "    return flask.jsonify(data)"
   ]
  },
  {
   "cell_type": "code",
   "execution_count": null,
   "metadata": {},
   "outputs": [
    {
     "name": "stdout",
     "output_type": "stream",
     "text": [
      "* Loading Keras model and Flask starting server...please wait until server has fully started\n"
     ]
    },
    {
     "name": "stderr",
     "output_type": "stream",
     "text": [
      " * Running on http://0.0.0.0:5000/ (Press CTRL+C to quit)\n",
      "C:\\Users\\SiSharma\\AppData\\Local\\Continuum\\anaconda3\\envs\\tensorflow\\lib\\site-packages\\sklearn\\preprocessing\\label.py:151: DeprecationWarning: The truth value of an empty array is ambiguous. Returning False, but in future this will result in an error. Use `array.size > 0` to check that an array is not empty.\n",
      "  if diff:\n",
      "127.0.0.1 - - [20/Mar/2018 19:16:26] \"\u001b[37mPOST /predict HTTP/1.1\u001b[0m\" 200 -\n"
     ]
    },
    {
     "name": "stdout",
     "output_type": "stream",
     "text": [
      "memory loss,blurry vision\n",
      "code related to preprocessing the get request will be put here\n",
      "{'headache': 24, 'nausea': 34, 'vomiting': 48, 'high': 26, 'fever': 22, 'diarrhea': 12, 'fatigue': 21, 'muscle': 32, 'aches': 1, 'coughing': 11, 'pain': 36, 'stiffness': 42, 'swelling': 43, 'redness': 39, 'wheezing': 51, 'learning': 28, 'disability': 13, 'epilepsy': 19, 'chronic': 9, 'blood': 5, 'discharge': 14, 'sneezing': 40, 'during': 18, 'urination': 46, 'genital': 23, 'palpitation': 37, 'weakness': 49, 'faster': 20, 'heartbeat': 25, 'nasal': 33, 'dryness': 17, 'sore': 41, 'throat': 44, 'abdominal': 0, 'weight': 50, 'loss': 29, 'chills': 8, 'chest': 7, 'back': 2, 'tired': 45, 'blindness': 4, 'blurred': 6, 'vision': 47, 'dry': 16, 'mouth': 31, 'paralysis': 38, 'dizziness': 15, 'memory': 30, 'nose': 35, 'bleed': 3, 'jaundice': 27, 'constipation': 10}\n",
      "[[0 0 0 0 0 0 0 0 0 0 0 0 0 0 0 0 0 0 0 0 0 0 0 0 0 0 0 0 0 1 1 0 0 0 0 0\n",
      "  0 0 0 0 0 0 0 0 0 0 0 1 0 0 0 0]]\n",
      "done preprocessing!!\n",
      "[[9.1278198e-05 3.9588910e-04 7.4902177e-01 9.2847273e-07 1.4079607e-05\n",
      "  9.0777379e-05 3.9552135e-05 3.2508429e-04 8.0787408e-04 3.7374196e-04\n",
      "  1.4118594e-04 7.5154384e-07 3.3406698e-04 9.7437249e-04 2.5340951e-05\n",
      "  9.9737154e-06 1.5298881e-04 2.4720030e-01]]\n",
      "2\n",
      "alzheimer disease\n",
      "Prediction done\n"
     ]
    }
   ],
   "source": [
    "if __name__ == \"__main__\":\n",
    "    print((\"* Loading Keras model and Flask starting server...\"\n",
    "        \"please wait until server has fully started\"))\n",
    "    load_model()\n",
    "    app.run(host ='0.0.0.0',port=5000)"
   ]
  },
  {
   "cell_type": "code",
   "execution_count": null,
   "metadata": {},
   "outputs": [],
   "source": []
  }
 ],
 "metadata": {
  "kernelspec": {
   "display_name": "Python 3",
   "language": "python",
   "name": "python3"
  },
  "language_info": {
   "codemirror_mode": {
    "name": "ipython",
    "version": 3
   },
   "file_extension": ".py",
   "mimetype": "text/x-python",
   "name": "python",
   "nbconvert_exporter": "python",
   "pygments_lexer": "ipython3",
   "version": "3.6.2"
  }
 },
 "nbformat": 4,
 "nbformat_minor": 2
}
