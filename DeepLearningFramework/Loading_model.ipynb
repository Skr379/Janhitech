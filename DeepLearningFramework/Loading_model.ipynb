{
 "cells": [
  {
   "cell_type": "code",
   "execution_count": 79,
   "metadata": {},
   "outputs": [],
   "source": [
    "import numpy as np\n",
    "import flask\n",
    "import io\n",
    "\n",
    "import json\n",
    "from keras.models import model_from_json, load_model\n",
    "from keras.preprocessing.text import Tokenizer\n",
    "from keras.utils import np_utils\n",
    "from sklearn.preprocessing import LabelEncoder\n",
    "from sklearn.feature_extraction.text import CountVectorizer\n",
    "# initialize our Flask application and the Keras model\n",
    "app = flask.Flask(__name__)\n",
    "model = None"
   ]
  },
  {
   "cell_type": "code",
   "execution_count": 80,
   "metadata": {},
   "outputs": [],
   "source": [
    "def load_model():\n",
    "    from keras.models import model_from_json\n",
    "    global model\n",
    "    # Model reconstruction from JSON file\n",
    "    with open('D:\\\\Hackathon\\\\trained_model\\\\model.json', 'r') as f:\n",
    "        model = model_from_json(f.read())\n",
    "        \n",
    "    model.load_weights('D:\\\\Hackathon\\\\trained_model\\\\model.h5')"
   ]
  },
  {
   "cell_type": "code",
   "execution_count": 81,
   "metadata": {},
   "outputs": [],
   "source": [
    "def prepare_data(symptoms):\n",
    "    import keras\n",
    "    print(\"code related to preprocessing the get request will be put here\")\n",
    "    docs = [\"headache\",\"nausea\",\"vomiting\",\"high fever\",\"diarrhea\",\"fatigue\",\"muscle aches\",\"coughing\",\"pain\",\"stiffness\",\n",
    "           \"swelling\",\"redness\",\"wheezing\",\"learning disability\",\"epilepsy\",\"chronic pain\",\"blood discharge\",\"sneezing\",\n",
    "           \"pain during urination\",\"genital pain\",\"palpitation\",\"weakness\",\"faster heartbeat\", \"nasal dryness\",\"sore throat\",\n",
    "           \"abdominal pain\",\"weight loss\",\"chills\",\"chest pain\",\"back pain\",\"tired\",\"blindness\",\"blurred vision\",\"dry mouth\",\n",
    "           \"paralysis\",\"dizziness\",\"memory loss\",\"nose bleed\",\"jaundice\",\"constipation\"]\n",
    "\n",
    "    max_review_length = 200\n",
    "    vectorizer = CountVectorizer()\n",
    "    # tokenize and build vocab\n",
    "    vectorizer.fit(docs)\n",
    "    print(vectorizer.vocabulary_)\n",
    "    symptoms_list = []\n",
    "    symptoms_list.append(symptoms)\n",
    "    X_vector = vectorizer.transform(symptoms_list)\n",
    "    X = X_vector.toarray()\n",
    "    print(X)\n",
    "    X = keras.preprocessing.sequence.pad_sequences(X, maxlen=max_review_length, dtype='object', \n",
    "                                           padding='pre', truncating='pre', value=0.)\n",
    "    print(\"done preprocessing!!\")\n",
    "    return X"
   ]
  },
  {
   "cell_type": "code",
   "execution_count": 82,
   "metadata": {},
   "outputs": [],
   "source": [
    "def predict_diseases(predictions):\n",
    "    encoder_Y = LabelEncoder()\n",
    "    diseases = [\"arthritis\",\"asthma\",\"ASD\",\"cancer\",\"chlamydia\",\"ebola\",\"diabetes\",\"malaria\",\"HIV\",\"cirrhosis\",\"migraine\", \n",
    "                \"heart disease\",\"rhinovirus\",\"influenza\",\"stroke\",\"alzheimer disease\",\"tuberculosis\",\"thyroid\"]\n",
    "    encoder_Y.fit(diseases)\n",
    "    encoded_docs = encoder_Y.transform(diseases)\n",
    "    # convert integers to dummy variables (i.e. one hot encoded)\n",
    "    Y = np_utils.to_categorical(encoded_docs)\n",
    "    print(predictions)\n",
    "    predicted_probability = np.amax(predictions)\n",
    "    predicted_probability = float(\"{0:.2f}\".format(predicted_probability*100))\n",
    "    arg = np.argmax(predictions)\n",
    "    print(arg)\n",
    "    predicted_disease = encoder_Y.inverse_transform(arg)\n",
    "    print(predicted_disease)\n",
    "    predictions = {'probability':predicted_probability, 'disease':predicted_disease}\n",
    "#     predictions['probability']= str(predicted_probability)\n",
    "#     predictions['disease']= str(predicted_disease)\n",
    "    return predictions"
   ]
  },
  {
   "cell_type": "code",
   "execution_count": null,
   "metadata": {},
   "outputs": [],
   "source": [
    "@app.route(\"/predict\", methods=[\"POST\"])\n",
    "def predict():\n",
    "    # initialize the data dictionary that will be returned from the\n",
    "    # view\n",
    "    data = {\"success\": False}\n",
    "\n",
    "    # ensure an image was properly uploaded to our endpoint\n",
    "    if flask.request.method == \"POST\":\n",
    "        try:\n",
    "            post_data = flask.request.get_json(force=True)\n",
    "            print(post_data.get(\"symptoms\"))\n",
    "            # preprocess the image and prepare it for classification\n",
    "            X = prepare_data(str(post_data.get(\"symptoms\")))\n",
    "            \n",
    "            data[\"predictions\"] = []\n",
    "            # classify the input image and then initialize the list\n",
    "            # of predictions to return to the client\n",
    "            predicted = model.predict(X)\n",
    "            predictions = predict_diseases(predicted)\n",
    "            r = {\"probability\": str(predictions['probability']), \"disease\": predictions['disease'] }\n",
    "            data[\"predictions\"].append(r)\n",
    "            print(\"Prediction done\")\n",
    "            \n",
    "#             # loop over the results and add them to the list of\n",
    "#             # returned predictions\n",
    "#             for (imagenetID, label, prob) in results[0]:\n",
    "#                 r = {\"label\": label, \"probability\": float(prob)}\n",
    "#                 data[\"predictions\"].append(r)\n",
    "\n",
    "#             # indicate that the request was a success\n",
    "            data[\"success\"] = True\n",
    "        except ValueError:\n",
    "            print(ValueError)\n",
    "\n",
    "    # return the data dictionary as a JSON response\n",
    "    return flask.jsonify(data)"
   ]
  },
  {
   "cell_type": "code",
   "execution_count": null,
   "metadata": {},
   "outputs": [
    {
     "name": "stdout",
     "output_type": "stream",
     "text": [
      "* Loading Keras model and Flask starting server...please wait until server has fully started\n"
     ]
    },
    {
     "name": "stderr",
     "output_type": "stream",
     "text": [
      " * Running on http://0.0.0.0:5000/ (Press CTRL+C to quit)\n",
      "C:\\Users\\SiSharma\\AppData\\Local\\Continuum\\anaconda3\\envs\\tensorflow\\lib\\site-packages\\sklearn\\preprocessing\\label.py:151: DeprecationWarning: The truth value of an empty array is ambiguous. Returning False, but in future this will result in an error. Use `array.size > 0` to check that an array is not empty.\n",
      "  if diff:\n",
      "127.0.0.1 - - [20/Mar/2018 19:20:12] \"\u001b[37mPOST /predict HTTP/1.1\u001b[0m\" 200 -\n"
     ]
    },
    {
     "name": "stdout",
     "output_type": "stream",
     "text": [
      "memory loss,blurry vision\n",
      "code related to preprocessing the get request will be put here\n",
      "{'headache': 24, 'nausea': 34, 'vomiting': 48, 'high': 26, 'fever': 22, 'diarrhea': 12, 'fatigue': 21, 'muscle': 32, 'aches': 1, 'coughing': 11, 'pain': 36, 'stiffness': 42, 'swelling': 43, 'redness': 39, 'wheezing': 51, 'learning': 28, 'disability': 13, 'epilepsy': 19, 'chronic': 9, 'blood': 5, 'discharge': 14, 'sneezing': 40, 'during': 18, 'urination': 46, 'genital': 23, 'palpitation': 37, 'weakness': 49, 'faster': 20, 'heartbeat': 25, 'nasal': 33, 'dryness': 17, 'sore': 41, 'throat': 44, 'abdominal': 0, 'weight': 50, 'loss': 29, 'chills': 8, 'chest': 7, 'back': 2, 'tired': 45, 'blindness': 4, 'blurred': 6, 'vision': 47, 'dry': 16, 'mouth': 31, 'paralysis': 38, 'dizziness': 15, 'memory': 30, 'nose': 35, 'bleed': 3, 'jaundice': 27, 'constipation': 10}\n",
      "[[0 0 0 0 0 0 0 0 0 0 0 0 0 0 0 0 0 0 0 0 0 0 0 0 0 0 0 0 0 1 1 0 0 0 0 0\n",
      "  0 0 0 0 0 0 0 0 0 0 0 1 0 0 0 0]]\n",
      "done preprocessing!!\n",
      "[[9.1278198e-05 3.9588910e-04 7.4902177e-01 9.2847273e-07 1.4079607e-05\n",
      "  9.0777379e-05 3.9552135e-05 3.2508429e-04 8.0787408e-04 3.7374196e-04\n",
      "  1.4118594e-04 7.5154384e-07 3.3406698e-04 9.7437249e-04 2.5340951e-05\n",
      "  9.9737154e-06 1.5298881e-04 2.4720030e-01]]\n",
      "2\n",
      "alzheimer disease\n",
      "Prediction done\n"
     ]
    },
    {
     "name": "stderr",
     "output_type": "stream",
     "text": [
      "C:\\Users\\SiSharma\\AppData\\Local\\Continuum\\anaconda3\\envs\\tensorflow\\lib\\site-packages\\sklearn\\preprocessing\\label.py:151: DeprecationWarning: The truth value of an empty array is ambiguous. Returning False, but in future this will result in an error. Use `array.size > 0` to check that an array is not empty.\n",
      "  if diff:\n",
      "127.0.0.1 - - [20/Mar/2018 19:35:56] \"\u001b[37mPOST /predict HTTP/1.1\u001b[0m\" 200 -\n"
     ]
    },
    {
     "name": "stdout",
     "output_type": "stream",
     "text": [
      "swelling,blood discharge,chronic pain\n",
      "code related to preprocessing the get request will be put here\n",
      "{'headache': 24, 'nausea': 34, 'vomiting': 48, 'high': 26, 'fever': 22, 'diarrhea': 12, 'fatigue': 21, 'muscle': 32, 'aches': 1, 'coughing': 11, 'pain': 36, 'stiffness': 42, 'swelling': 43, 'redness': 39, 'wheezing': 51, 'learning': 28, 'disability': 13, 'epilepsy': 19, 'chronic': 9, 'blood': 5, 'discharge': 14, 'sneezing': 40, 'during': 18, 'urination': 46, 'genital': 23, 'palpitation': 37, 'weakness': 49, 'faster': 20, 'heartbeat': 25, 'nasal': 33, 'dryness': 17, 'sore': 41, 'throat': 44, 'abdominal': 0, 'weight': 50, 'loss': 29, 'chills': 8, 'chest': 7, 'back': 2, 'tired': 45, 'blindness': 4, 'blurred': 6, 'vision': 47, 'dry': 16, 'mouth': 31, 'paralysis': 38, 'dizziness': 15, 'memory': 30, 'nose': 35, 'bleed': 3, 'jaundice': 27, 'constipation': 10}\n",
      "[[0 0 0 0 0 1 0 0 0 1 0 0 0 0 1 0 0 0 0 0 0 0 0 0 0 0 0 0 0 0 0 0 0 0 0 0\n",
      "  1 0 0 0 0 0 0 1 0 0 0 0 0 0 0 0]]\n",
      "done preprocessing!!\n",
      "[[8.2383682e-05 7.1392799e-07 4.3373344e-05 2.2999222e-04 2.7027208e-04\n",
      "  8.3818346e-01 1.5923464e-01 4.5202282e-07 2.8333588e-08 1.4098610e-03\n",
      "  3.0883334e-07 3.7366540e-06 5.2222768e-09 1.6742113e-05 1.3069216e-04\n",
      "  7.1422829e-07 1.9657931e-04 1.9616092e-04]]\n",
      "5\n",
      "cancer\n",
      "Prediction done\n"
     ]
    },
    {
     "name": "stderr",
     "output_type": "stream",
     "text": [
      "C:\\Users\\SiSharma\\AppData\\Local\\Continuum\\anaconda3\\envs\\tensorflow\\lib\\site-packages\\sklearn\\preprocessing\\label.py:151: DeprecationWarning: The truth value of an empty array is ambiguous. Returning False, but in future this will result in an error. Use `array.size > 0` to check that an array is not empty.\n",
      "  if diff:\n",
      "127.0.0.1 - - [20/Mar/2018 19:36:40] \"\u001b[37mPOST /predict HTTP/1.1\u001b[0m\" 200 -\n"
     ]
    },
    {
     "name": "stdout",
     "output_type": "stream",
     "text": [
      "swelling,blood discharge,chronic pain,headache\n",
      "code related to preprocessing the get request will be put here\n",
      "{'headache': 24, 'nausea': 34, 'vomiting': 48, 'high': 26, 'fever': 22, 'diarrhea': 12, 'fatigue': 21, 'muscle': 32, 'aches': 1, 'coughing': 11, 'pain': 36, 'stiffness': 42, 'swelling': 43, 'redness': 39, 'wheezing': 51, 'learning': 28, 'disability': 13, 'epilepsy': 19, 'chronic': 9, 'blood': 5, 'discharge': 14, 'sneezing': 40, 'during': 18, 'urination': 46, 'genital': 23, 'palpitation': 37, 'weakness': 49, 'faster': 20, 'heartbeat': 25, 'nasal': 33, 'dryness': 17, 'sore': 41, 'throat': 44, 'abdominal': 0, 'weight': 50, 'loss': 29, 'chills': 8, 'chest': 7, 'back': 2, 'tired': 45, 'blindness': 4, 'blurred': 6, 'vision': 47, 'dry': 16, 'mouth': 31, 'paralysis': 38, 'dizziness': 15, 'memory': 30, 'nose': 35, 'bleed': 3, 'jaundice': 27, 'constipation': 10}\n",
      "[[0 0 0 0 0 1 0 0 0 1 0 0 0 0 1 0 0 0 0 0 0 0 0 0 1 0 0 0 0 0 0 0 0 0 0 0\n",
      "  1 0 0 0 0 0 0 1 0 0 0 0 0 0 0 0]]\n",
      "done preprocessing!!\n",
      "[[2.1635518e-04 3.9941137e-06 3.3905279e-05 3.1618163e-04 1.3207836e-03\n",
      "  8.3162558e-01 1.6201769e-01 4.1334720e-06 7.1443829e-08 1.3463368e-03\n",
      "  2.8125515e-07 4.4825515e-06 8.7374286e-09 2.6685855e-05 1.3993954e-04\n",
      "  4.0864941e-07 2.0097136e-03 9.3326438e-04]]\n",
      "5\n",
      "cancer\n",
      "Prediction done\n"
     ]
    },
    {
     "name": "stderr",
     "output_type": "stream",
     "text": [
      "C:\\Users\\SiSharma\\AppData\\Local\\Continuum\\anaconda3\\envs\\tensorflow\\lib\\site-packages\\sklearn\\preprocessing\\label.py:151: DeprecationWarning: The truth value of an empty array is ambiguous. Returning False, but in future this will result in an error. Use `array.size > 0` to check that an array is not empty.\n",
      "  if diff:\n",
      "127.0.0.1 - - [20/Mar/2018 19:37:00] \"\u001b[37mPOST /predict HTTP/1.1\u001b[0m\" 200 -\n"
     ]
    },
    {
     "name": "stdout",
     "output_type": "stream",
     "text": [
      "headache\n",
      "code related to preprocessing the get request will be put here\n",
      "{'headache': 24, 'nausea': 34, 'vomiting': 48, 'high': 26, 'fever': 22, 'diarrhea': 12, 'fatigue': 21, 'muscle': 32, 'aches': 1, 'coughing': 11, 'pain': 36, 'stiffness': 42, 'swelling': 43, 'redness': 39, 'wheezing': 51, 'learning': 28, 'disability': 13, 'epilepsy': 19, 'chronic': 9, 'blood': 5, 'discharge': 14, 'sneezing': 40, 'during': 18, 'urination': 46, 'genital': 23, 'palpitation': 37, 'weakness': 49, 'faster': 20, 'heartbeat': 25, 'nasal': 33, 'dryness': 17, 'sore': 41, 'throat': 44, 'abdominal': 0, 'weight': 50, 'loss': 29, 'chills': 8, 'chest': 7, 'back': 2, 'tired': 45, 'blindness': 4, 'blurred': 6, 'vision': 47, 'dry': 16, 'mouth': 31, 'paralysis': 38, 'dizziness': 15, 'memory': 30, 'nose': 35, 'bleed': 3, 'jaundice': 27, 'constipation': 10}\n",
      "[[0 0 0 0 0 0 0 0 0 0 0 0 0 0 0 0 0 0 0 0 0 0 0 0 1 0 0 0 0 0 0 0 0 0 0 0\n",
      "  0 0 0 0 0 0 0 0 0 0 0 0 0 0 0 0]]\n",
      "done preprocessing!!\n",
      "[[2.07411855e-01 8.74950929e-05 3.87623012e-02 1.19340784e-05\n",
      "  5.52941463e-04 1.09277055e-01 5.88426879e-03 1.06838567e-03\n",
      "  2.72365585e-02 3.06658596e-02 2.62957215e-02 2.32859747e-05\n",
      "  2.75685888e-04 1.68649126e-02 5.63287269e-03 6.98934164e-05\n",
      "  1.73027478e-02 5.12576222e-01]]\n",
      "17\n",
      "tuberculosis\n",
      "Prediction done\n"
     ]
    },
    {
     "name": "stderr",
     "output_type": "stream",
     "text": [
      "C:\\Users\\SiSharma\\AppData\\Local\\Continuum\\anaconda3\\envs\\tensorflow\\lib\\site-packages\\sklearn\\preprocessing\\label.py:151: DeprecationWarning: The truth value of an empty array is ambiguous. Returning False, but in future this will result in an error. Use `array.size > 0` to check that an array is not empty.\n",
      "  if diff:\n",
      "172.26.41.251 - - [20/Mar/2018 19:41:08] \"\u001b[37mPOST /predict HTTP/1.1\u001b[0m\" 200 -\n"
     ]
    },
    {
     "name": "stdout",
     "output_type": "stream",
     "text": [
      "headache\n",
      "code related to preprocessing the get request will be put here\n",
      "{'headache': 24, 'nausea': 34, 'vomiting': 48, 'high': 26, 'fever': 22, 'diarrhea': 12, 'fatigue': 21, 'muscle': 32, 'aches': 1, 'coughing': 11, 'pain': 36, 'stiffness': 42, 'swelling': 43, 'redness': 39, 'wheezing': 51, 'learning': 28, 'disability': 13, 'epilepsy': 19, 'chronic': 9, 'blood': 5, 'discharge': 14, 'sneezing': 40, 'during': 18, 'urination': 46, 'genital': 23, 'palpitation': 37, 'weakness': 49, 'faster': 20, 'heartbeat': 25, 'nasal': 33, 'dryness': 17, 'sore': 41, 'throat': 44, 'abdominal': 0, 'weight': 50, 'loss': 29, 'chills': 8, 'chest': 7, 'back': 2, 'tired': 45, 'blindness': 4, 'blurred': 6, 'vision': 47, 'dry': 16, 'mouth': 31, 'paralysis': 38, 'dizziness': 15, 'memory': 30, 'nose': 35, 'bleed': 3, 'jaundice': 27, 'constipation': 10}\n",
      "[[0 0 0 0 0 0 0 0 0 0 0 0 0 0 0 0 0 0 0 0 0 0 0 0 1 0 0 0 0 0 0 0 0 0 0 0\n",
      "  0 0 0 0 0 0 0 0 0 0 0 0 0 0 0 0]]\n",
      "done preprocessing!!\n",
      "[[2.07411855e-01 8.74950929e-05 3.87623012e-02 1.19340784e-05\n",
      "  5.52941463e-04 1.09277055e-01 5.88426879e-03 1.06838567e-03\n",
      "  2.72365585e-02 3.06658596e-02 2.62957215e-02 2.32859747e-05\n",
      "  2.75685888e-04 1.68649126e-02 5.63287269e-03 6.98934164e-05\n",
      "  1.73027478e-02 5.12576222e-01]]\n",
      "17\n",
      "tuberculosis\n",
      "Prediction done\n"
     ]
    },
    {
     "name": "stderr",
     "output_type": "stream",
     "text": [
      "C:\\Users\\SiSharma\\AppData\\Local\\Continuum\\anaconda3\\envs\\tensorflow\\lib\\site-packages\\sklearn\\preprocessing\\label.py:151: DeprecationWarning: The truth value of an empty array is ambiguous. Returning False, but in future this will result in an error. Use `array.size > 0` to check that an array is not empty.\n",
      "  if diff:\n",
      "172.26.41.251 - - [20/Mar/2018 19:51:56] \"\u001b[37mPOST /predict HTTP/1.1\u001b[0m\" 200 -\n"
     ]
    },
    {
     "name": "stdout",
     "output_type": "stream",
     "text": [
      "headache\n",
      "code related to preprocessing the get request will be put here\n",
      "{'headache': 24, 'nausea': 34, 'vomiting': 48, 'high': 26, 'fever': 22, 'diarrhea': 12, 'fatigue': 21, 'muscle': 32, 'aches': 1, 'coughing': 11, 'pain': 36, 'stiffness': 42, 'swelling': 43, 'redness': 39, 'wheezing': 51, 'learning': 28, 'disability': 13, 'epilepsy': 19, 'chronic': 9, 'blood': 5, 'discharge': 14, 'sneezing': 40, 'during': 18, 'urination': 46, 'genital': 23, 'palpitation': 37, 'weakness': 49, 'faster': 20, 'heartbeat': 25, 'nasal': 33, 'dryness': 17, 'sore': 41, 'throat': 44, 'abdominal': 0, 'weight': 50, 'loss': 29, 'chills': 8, 'chest': 7, 'back': 2, 'tired': 45, 'blindness': 4, 'blurred': 6, 'vision': 47, 'dry': 16, 'mouth': 31, 'paralysis': 38, 'dizziness': 15, 'memory': 30, 'nose': 35, 'bleed': 3, 'jaundice': 27, 'constipation': 10}\n",
      "[[0 0 0 0 0 0 0 0 0 0 0 0 0 0 0 0 0 0 0 0 0 0 0 0 1 0 0 0 0 0 0 0 0 0 0 0\n",
      "  0 0 0 0 0 0 0 0 0 0 0 0 0 0 0 0]]\n",
      "done preprocessing!!\n",
      "[[2.07411855e-01 8.74950929e-05 3.87623012e-02 1.19340784e-05\n",
      "  5.52941463e-04 1.09277055e-01 5.88426879e-03 1.06838567e-03\n",
      "  2.72365585e-02 3.06658596e-02 2.62957215e-02 2.32859747e-05\n",
      "  2.75685888e-04 1.68649126e-02 5.63287269e-03 6.98934164e-05\n",
      "  1.73027478e-02 5.12576222e-01]]\n",
      "17\n",
      "tuberculosis\n",
      "Prediction done\n"
     ]
    },
    {
     "name": "stderr",
     "output_type": "stream",
     "text": [
      "C:\\Users\\SiSharma\\AppData\\Local\\Continuum\\anaconda3\\envs\\tensorflow\\lib\\site-packages\\sklearn\\preprocessing\\label.py:151: DeprecationWarning: The truth value of an empty array is ambiguous. Returning False, but in future this will result in an error. Use `array.size > 0` to check that an array is not empty.\n",
      "  if diff:\n",
      "172.26.41.251 - - [20/Mar/2018 19:52:18] \"\u001b[37mPOST /predict HTTP/1.1\u001b[0m\" 200 -\n"
     ]
    },
    {
     "name": "stdout",
     "output_type": "stream",
     "text": [
      "headache\n",
      "code related to preprocessing the get request will be put here\n",
      "{'headache': 24, 'nausea': 34, 'vomiting': 48, 'high': 26, 'fever': 22, 'diarrhea': 12, 'fatigue': 21, 'muscle': 32, 'aches': 1, 'coughing': 11, 'pain': 36, 'stiffness': 42, 'swelling': 43, 'redness': 39, 'wheezing': 51, 'learning': 28, 'disability': 13, 'epilepsy': 19, 'chronic': 9, 'blood': 5, 'discharge': 14, 'sneezing': 40, 'during': 18, 'urination': 46, 'genital': 23, 'palpitation': 37, 'weakness': 49, 'faster': 20, 'heartbeat': 25, 'nasal': 33, 'dryness': 17, 'sore': 41, 'throat': 44, 'abdominal': 0, 'weight': 50, 'loss': 29, 'chills': 8, 'chest': 7, 'back': 2, 'tired': 45, 'blindness': 4, 'blurred': 6, 'vision': 47, 'dry': 16, 'mouth': 31, 'paralysis': 38, 'dizziness': 15, 'memory': 30, 'nose': 35, 'bleed': 3, 'jaundice': 27, 'constipation': 10}\n",
      "[[0 0 0 0 0 0 0 0 0 0 0 0 0 0 0 0 0 0 0 0 0 0 0 0 1 0 0 0 0 0 0 0 0 0 0 0\n",
      "  0 0 0 0 0 0 0 0 0 0 0 0 0 0 0 0]]\n",
      "done preprocessing!!\n",
      "[[2.07411855e-01 8.74950929e-05 3.87623012e-02 1.19340784e-05\n",
      "  5.52941463e-04 1.09277055e-01 5.88426879e-03 1.06838567e-03\n",
      "  2.72365585e-02 3.06658596e-02 2.62957215e-02 2.32859747e-05\n",
      "  2.75685888e-04 1.68649126e-02 5.63287269e-03 6.98934164e-05\n",
      "  1.73027478e-02 5.12576222e-01]]\n",
      "17\n",
      "tuberculosis\n",
      "Prediction done\n"
     ]
    },
    {
     "name": "stderr",
     "output_type": "stream",
     "text": [
      "C:\\Users\\SiSharma\\AppData\\Local\\Continuum\\anaconda3\\envs\\tensorflow\\lib\\site-packages\\sklearn\\preprocessing\\label.py:151: DeprecationWarning: The truth value of an empty array is ambiguous. Returning False, but in future this will result in an error. Use `array.size > 0` to check that an array is not empty.\n",
      "  if diff:\n",
      "172.26.41.251 - - [20/Mar/2018 19:52:59] \"\u001b[37mPOST /predict HTTP/1.1\u001b[0m\" 200 -\n"
     ]
    },
    {
     "name": "stdout",
     "output_type": "stream",
     "text": [
      "headache\n",
      "code related to preprocessing the get request will be put here\n",
      "{'headache': 24, 'nausea': 34, 'vomiting': 48, 'high': 26, 'fever': 22, 'diarrhea': 12, 'fatigue': 21, 'muscle': 32, 'aches': 1, 'coughing': 11, 'pain': 36, 'stiffness': 42, 'swelling': 43, 'redness': 39, 'wheezing': 51, 'learning': 28, 'disability': 13, 'epilepsy': 19, 'chronic': 9, 'blood': 5, 'discharge': 14, 'sneezing': 40, 'during': 18, 'urination': 46, 'genital': 23, 'palpitation': 37, 'weakness': 49, 'faster': 20, 'heartbeat': 25, 'nasal': 33, 'dryness': 17, 'sore': 41, 'throat': 44, 'abdominal': 0, 'weight': 50, 'loss': 29, 'chills': 8, 'chest': 7, 'back': 2, 'tired': 45, 'blindness': 4, 'blurred': 6, 'vision': 47, 'dry': 16, 'mouth': 31, 'paralysis': 38, 'dizziness': 15, 'memory': 30, 'nose': 35, 'bleed': 3, 'jaundice': 27, 'constipation': 10}\n",
      "[[0 0 0 0 0 0 0 0 0 0 0 0 0 0 0 0 0 0 0 0 0 0 0 0 1 0 0 0 0 0 0 0 0 0 0 0\n",
      "  0 0 0 0 0 0 0 0 0 0 0 0 0 0 0 0]]\n",
      "done preprocessing!!\n",
      "[[2.07411855e-01 8.74950929e-05 3.87623012e-02 1.19340784e-05\n",
      "  5.52941463e-04 1.09277055e-01 5.88426879e-03 1.06838567e-03\n",
      "  2.72365585e-02 3.06658596e-02 2.62957215e-02 2.32859747e-05\n",
      "  2.75685888e-04 1.68649126e-02 5.63287269e-03 6.98934164e-05\n",
      "  1.73027478e-02 5.12576222e-01]]\n",
      "17\n",
      "tuberculosis\n",
      "Prediction done\n"
     ]
    },
    {
     "name": "stderr",
     "output_type": "stream",
     "text": [
      "C:\\Users\\SiSharma\\AppData\\Local\\Continuum\\anaconda3\\envs\\tensorflow\\lib\\site-packages\\sklearn\\preprocessing\\label.py:151: DeprecationWarning: The truth value of an empty array is ambiguous. Returning False, but in future this will result in an error. Use `array.size > 0` to check that an array is not empty.\n",
      "  if diff:\n",
      "172.26.41.251 - - [20/Mar/2018 19:54:06] \"\u001b[37mPOST /predict HTTP/1.1\u001b[0m\" 200 -\n"
     ]
    },
    {
     "name": "stdout",
     "output_type": "stream",
     "text": [
      "headache\n",
      "code related to preprocessing the get request will be put here\n",
      "{'headache': 24, 'nausea': 34, 'vomiting': 48, 'high': 26, 'fever': 22, 'diarrhea': 12, 'fatigue': 21, 'muscle': 32, 'aches': 1, 'coughing': 11, 'pain': 36, 'stiffness': 42, 'swelling': 43, 'redness': 39, 'wheezing': 51, 'learning': 28, 'disability': 13, 'epilepsy': 19, 'chronic': 9, 'blood': 5, 'discharge': 14, 'sneezing': 40, 'during': 18, 'urination': 46, 'genital': 23, 'palpitation': 37, 'weakness': 49, 'faster': 20, 'heartbeat': 25, 'nasal': 33, 'dryness': 17, 'sore': 41, 'throat': 44, 'abdominal': 0, 'weight': 50, 'loss': 29, 'chills': 8, 'chest': 7, 'back': 2, 'tired': 45, 'blindness': 4, 'blurred': 6, 'vision': 47, 'dry': 16, 'mouth': 31, 'paralysis': 38, 'dizziness': 15, 'memory': 30, 'nose': 35, 'bleed': 3, 'jaundice': 27, 'constipation': 10}\n",
      "[[0 0 0 0 0 0 0 0 0 0 0 0 0 0 0 0 0 0 0 0 0 0 0 0 1 0 0 0 0 0 0 0 0 0 0 0\n",
      "  0 0 0 0 0 0 0 0 0 0 0 0 0 0 0 0]]\n",
      "done preprocessing!!\n",
      "[[2.07411855e-01 8.74950929e-05 3.87623012e-02 1.19340784e-05\n",
      "  5.52941463e-04 1.09277055e-01 5.88426879e-03 1.06838567e-03\n",
      "  2.72365585e-02 3.06658596e-02 2.62957215e-02 2.32859747e-05\n",
      "  2.75685888e-04 1.68649126e-02 5.63287269e-03 6.98934164e-05\n",
      "  1.73027478e-02 5.12576222e-01]]\n",
      "17\n",
      "tuberculosis\n",
      "Prediction done\n"
     ]
    },
    {
     "name": "stderr",
     "output_type": "stream",
     "text": [
      "C:\\Users\\SiSharma\\AppData\\Local\\Continuum\\anaconda3\\envs\\tensorflow\\lib\\site-packages\\sklearn\\preprocessing\\label.py:151: DeprecationWarning: The truth value of an empty array is ambiguous. Returning False, but in future this will result in an error. Use `array.size > 0` to check that an array is not empty.\n",
      "  if diff:\n",
      "172.26.41.251 - - [20/Mar/2018 19:58:29] \"\u001b[37mPOST /predict HTTP/1.1\u001b[0m\" 200 -\n"
     ]
    },
    {
     "name": "stdout",
     "output_type": "stream",
     "text": [
      "headache\n",
      "code related to preprocessing the get request will be put here\n",
      "{'headache': 24, 'nausea': 34, 'vomiting': 48, 'high': 26, 'fever': 22, 'diarrhea': 12, 'fatigue': 21, 'muscle': 32, 'aches': 1, 'coughing': 11, 'pain': 36, 'stiffness': 42, 'swelling': 43, 'redness': 39, 'wheezing': 51, 'learning': 28, 'disability': 13, 'epilepsy': 19, 'chronic': 9, 'blood': 5, 'discharge': 14, 'sneezing': 40, 'during': 18, 'urination': 46, 'genital': 23, 'palpitation': 37, 'weakness': 49, 'faster': 20, 'heartbeat': 25, 'nasal': 33, 'dryness': 17, 'sore': 41, 'throat': 44, 'abdominal': 0, 'weight': 50, 'loss': 29, 'chills': 8, 'chest': 7, 'back': 2, 'tired': 45, 'blindness': 4, 'blurred': 6, 'vision': 47, 'dry': 16, 'mouth': 31, 'paralysis': 38, 'dizziness': 15, 'memory': 30, 'nose': 35, 'bleed': 3, 'jaundice': 27, 'constipation': 10}\n",
      "[[0 0 0 0 0 0 0 0 0 0 0 0 0 0 0 0 0 0 0 0 0 0 0 0 1 0 0 0 0 0 0 0 0 0 0 0\n",
      "  0 0 0 0 0 0 0 0 0 0 0 0 0 0 0 0]]\n",
      "done preprocessing!!\n",
      "[[2.07411855e-01 8.74950929e-05 3.87623012e-02 1.19340784e-05\n",
      "  5.52941463e-04 1.09277055e-01 5.88426879e-03 1.06838567e-03\n",
      "  2.72365585e-02 3.06658596e-02 2.62957215e-02 2.32859747e-05\n",
      "  2.75685888e-04 1.68649126e-02 5.63287269e-03 6.98934164e-05\n",
      "  1.73027478e-02 5.12576222e-01]]\n",
      "17\n",
      "tuberculosis\n",
      "Prediction done\n"
     ]
    },
    {
     "name": "stderr",
     "output_type": "stream",
     "text": [
      "C:\\Users\\SiSharma\\AppData\\Local\\Continuum\\anaconda3\\envs\\tensorflow\\lib\\site-packages\\sklearn\\preprocessing\\label.py:151: DeprecationWarning: The truth value of an empty array is ambiguous. Returning False, but in future this will result in an error. Use `array.size > 0` to check that an array is not empty.\n",
      "  if diff:\n",
      "172.26.41.251 - - [20/Mar/2018 20:00:14] \"\u001b[37mPOST /predict HTTP/1.1\u001b[0m\" 200 -\n"
     ]
    },
    {
     "name": "stdout",
     "output_type": "stream",
     "text": [
      "headache\n",
      "code related to preprocessing the get request will be put here\n",
      "{'headache': 24, 'nausea': 34, 'vomiting': 48, 'high': 26, 'fever': 22, 'diarrhea': 12, 'fatigue': 21, 'muscle': 32, 'aches': 1, 'coughing': 11, 'pain': 36, 'stiffness': 42, 'swelling': 43, 'redness': 39, 'wheezing': 51, 'learning': 28, 'disability': 13, 'epilepsy': 19, 'chronic': 9, 'blood': 5, 'discharge': 14, 'sneezing': 40, 'during': 18, 'urination': 46, 'genital': 23, 'palpitation': 37, 'weakness': 49, 'faster': 20, 'heartbeat': 25, 'nasal': 33, 'dryness': 17, 'sore': 41, 'throat': 44, 'abdominal': 0, 'weight': 50, 'loss': 29, 'chills': 8, 'chest': 7, 'back': 2, 'tired': 45, 'blindness': 4, 'blurred': 6, 'vision': 47, 'dry': 16, 'mouth': 31, 'paralysis': 38, 'dizziness': 15, 'memory': 30, 'nose': 35, 'bleed': 3, 'jaundice': 27, 'constipation': 10}\n",
      "[[0 0 0 0 0 0 0 0 0 0 0 0 0 0 0 0 0 0 0 0 0 0 0 0 1 0 0 0 0 0 0 0 0 0 0 0\n",
      "  0 0 0 0 0 0 0 0 0 0 0 0 0 0 0 0]]\n",
      "done preprocessing!!\n",
      "[[2.07411855e-01 8.74950929e-05 3.87623012e-02 1.19340784e-05\n",
      "  5.52941463e-04 1.09277055e-01 5.88426879e-03 1.06838567e-03\n",
      "  2.72365585e-02 3.06658596e-02 2.62957215e-02 2.32859747e-05\n",
      "  2.75685888e-04 1.68649126e-02 5.63287269e-03 6.98934164e-05\n",
      "  1.73027478e-02 5.12576222e-01]]\n",
      "17\n",
      "tuberculosis\n",
      "Prediction done\n"
     ]
    },
    {
     "name": "stderr",
     "output_type": "stream",
     "text": [
      "C:\\Users\\SiSharma\\AppData\\Local\\Continuum\\anaconda3\\envs\\tensorflow\\lib\\site-packages\\sklearn\\preprocessing\\label.py:151: DeprecationWarning: The truth value of an empty array is ambiguous. Returning False, but in future this will result in an error. Use `array.size > 0` to check that an array is not empty.\n",
      "  if diff:\n",
      "172.26.41.251 - - [20/Mar/2018 20:02:02] \"\u001b[37mPOST /predict HTTP/1.1\u001b[0m\" 200 -\n"
     ]
    },
    {
     "name": "stdout",
     "output_type": "stream",
     "text": [
      "headache\n",
      "code related to preprocessing the get request will be put here\n",
      "{'headache': 24, 'nausea': 34, 'vomiting': 48, 'high': 26, 'fever': 22, 'diarrhea': 12, 'fatigue': 21, 'muscle': 32, 'aches': 1, 'coughing': 11, 'pain': 36, 'stiffness': 42, 'swelling': 43, 'redness': 39, 'wheezing': 51, 'learning': 28, 'disability': 13, 'epilepsy': 19, 'chronic': 9, 'blood': 5, 'discharge': 14, 'sneezing': 40, 'during': 18, 'urination': 46, 'genital': 23, 'palpitation': 37, 'weakness': 49, 'faster': 20, 'heartbeat': 25, 'nasal': 33, 'dryness': 17, 'sore': 41, 'throat': 44, 'abdominal': 0, 'weight': 50, 'loss': 29, 'chills': 8, 'chest': 7, 'back': 2, 'tired': 45, 'blindness': 4, 'blurred': 6, 'vision': 47, 'dry': 16, 'mouth': 31, 'paralysis': 38, 'dizziness': 15, 'memory': 30, 'nose': 35, 'bleed': 3, 'jaundice': 27, 'constipation': 10}\n",
      "[[0 0 0 0 0 0 0 0 0 0 0 0 0 0 0 0 0 0 0 0 0 0 0 0 1 0 0 0 0 0 0 0 0 0 0 0\n",
      "  0 0 0 0 0 0 0 0 0 0 0 0 0 0 0 0]]\n",
      "done preprocessing!!\n",
      "[[2.07411855e-01 8.74950929e-05 3.87623012e-02 1.19340784e-05\n",
      "  5.52941463e-04 1.09277055e-01 5.88426879e-03 1.06838567e-03\n",
      "  2.72365585e-02 3.06658596e-02 2.62957215e-02 2.32859747e-05\n",
      "  2.75685888e-04 1.68649126e-02 5.63287269e-03 6.98934164e-05\n",
      "  1.73027478e-02 5.12576222e-01]]\n",
      "17\n",
      "tuberculosis\n",
      "Prediction done\n"
     ]
    },
    {
     "name": "stderr",
     "output_type": "stream",
     "text": [
      "C:\\Users\\SiSharma\\AppData\\Local\\Continuum\\anaconda3\\envs\\tensorflow\\lib\\site-packages\\sklearn\\preprocessing\\label.py:151: DeprecationWarning: The truth value of an empty array is ambiguous. Returning False, but in future this will result in an error. Use `array.size > 0` to check that an array is not empty.\n",
      "  if diff:\n",
      "172.26.41.251 - - [20/Mar/2018 20:03:04] \"\u001b[37mPOST /predict HTTP/1.1\u001b[0m\" 200 -\n"
     ]
    },
    {
     "name": "stdout",
     "output_type": "stream",
     "text": [
      "headache,cold\n",
      "code related to preprocessing the get request will be put here\n",
      "{'headache': 24, 'nausea': 34, 'vomiting': 48, 'high': 26, 'fever': 22, 'diarrhea': 12, 'fatigue': 21, 'muscle': 32, 'aches': 1, 'coughing': 11, 'pain': 36, 'stiffness': 42, 'swelling': 43, 'redness': 39, 'wheezing': 51, 'learning': 28, 'disability': 13, 'epilepsy': 19, 'chronic': 9, 'blood': 5, 'discharge': 14, 'sneezing': 40, 'during': 18, 'urination': 46, 'genital': 23, 'palpitation': 37, 'weakness': 49, 'faster': 20, 'heartbeat': 25, 'nasal': 33, 'dryness': 17, 'sore': 41, 'throat': 44, 'abdominal': 0, 'weight': 50, 'loss': 29, 'chills': 8, 'chest': 7, 'back': 2, 'tired': 45, 'blindness': 4, 'blurred': 6, 'vision': 47, 'dry': 16, 'mouth': 31, 'paralysis': 38, 'dizziness': 15, 'memory': 30, 'nose': 35, 'bleed': 3, 'jaundice': 27, 'constipation': 10}\n",
      "[[0 0 0 0 0 0 0 0 0 0 0 0 0 0 0 0 0 0 0 0 0 0 0 0 1 0 0 0 0 0 0 0 0 0 0 0\n",
      "  0 0 0 0 0 0 0 0 0 0 0 0 0 0 0 0]]\n",
      "done preprocessing!!\n",
      "[[2.07411855e-01 8.74950929e-05 3.87623012e-02 1.19340784e-05\n",
      "  5.52941463e-04 1.09277055e-01 5.88426879e-03 1.06838567e-03\n",
      "  2.72365585e-02 3.06658596e-02 2.62957215e-02 2.32859747e-05\n",
      "  2.75685888e-04 1.68649126e-02 5.63287269e-03 6.98934164e-05\n",
      "  1.73027478e-02 5.12576222e-01]]\n",
      "17\n",
      "tuberculosis\n",
      "Prediction done\n"
     ]
    },
    {
     "name": "stderr",
     "output_type": "stream",
     "text": [
      "C:\\Users\\SiSharma\\AppData\\Local\\Continuum\\anaconda3\\envs\\tensorflow\\lib\\site-packages\\sklearn\\preprocessing\\label.py:151: DeprecationWarning: The truth value of an empty array is ambiguous. Returning False, but in future this will result in an error. Use `array.size > 0` to check that an array is not empty.\n",
      "  if diff:\n",
      "172.26.41.251 - - [20/Mar/2018 20:03:22] \"\u001b[37mPOST /predict HTTP/1.1\u001b[0m\" 200 -\n"
     ]
    },
    {
     "name": "stdout",
     "output_type": "stream",
     "text": [
      "headache,cold,hiv\n",
      "code related to preprocessing the get request will be put here\n",
      "{'headache': 24, 'nausea': 34, 'vomiting': 48, 'high': 26, 'fever': 22, 'diarrhea': 12, 'fatigue': 21, 'muscle': 32, 'aches': 1, 'coughing': 11, 'pain': 36, 'stiffness': 42, 'swelling': 43, 'redness': 39, 'wheezing': 51, 'learning': 28, 'disability': 13, 'epilepsy': 19, 'chronic': 9, 'blood': 5, 'discharge': 14, 'sneezing': 40, 'during': 18, 'urination': 46, 'genital': 23, 'palpitation': 37, 'weakness': 49, 'faster': 20, 'heartbeat': 25, 'nasal': 33, 'dryness': 17, 'sore': 41, 'throat': 44, 'abdominal': 0, 'weight': 50, 'loss': 29, 'chills': 8, 'chest': 7, 'back': 2, 'tired': 45, 'blindness': 4, 'blurred': 6, 'vision': 47, 'dry': 16, 'mouth': 31, 'paralysis': 38, 'dizziness': 15, 'memory': 30, 'nose': 35, 'bleed': 3, 'jaundice': 27, 'constipation': 10}\n",
      "[[0 0 0 0 0 0 0 0 0 0 0 0 0 0 0 0 0 0 0 0 0 0 0 0 1 0 0 0 0 0 0 0 0 0 0 0\n",
      "  0 0 0 0 0 0 0 0 0 0 0 0 0 0 0 0]]\n",
      "done preprocessing!!\n",
      "[[2.07411855e-01 8.74950929e-05 3.87623012e-02 1.19340784e-05\n",
      "  5.52941463e-04 1.09277055e-01 5.88426879e-03 1.06838567e-03\n",
      "  2.72365585e-02 3.06658596e-02 2.62957215e-02 2.32859747e-05\n",
      "  2.75685888e-04 1.68649126e-02 5.63287269e-03 6.98934164e-05\n",
      "  1.73027478e-02 5.12576222e-01]]\n",
      "17\n",
      "tuberculosis\n",
      "Prediction done\n"
     ]
    },
    {
     "name": "stderr",
     "output_type": "stream",
     "text": [
      "C:\\Users\\SiSharma\\AppData\\Local\\Continuum\\anaconda3\\envs\\tensorflow\\lib\\site-packages\\sklearn\\preprocessing\\label.py:151: DeprecationWarning: The truth value of an empty array is ambiguous. Returning False, but in future this will result in an error. Use `array.size > 0` to check that an array is not empty.\n",
      "  if diff:\n",
      "172.26.41.251 - - [20/Mar/2018 20:03:29] \"\u001b[37mPOST /predict HTTP/1.1\u001b[0m\" 200 -\n"
     ]
    },
    {
     "name": "stdout",
     "output_type": "stream",
     "text": [
      "hiv\n",
      "code related to preprocessing the get request will be put here\n",
      "{'headache': 24, 'nausea': 34, 'vomiting': 48, 'high': 26, 'fever': 22, 'diarrhea': 12, 'fatigue': 21, 'muscle': 32, 'aches': 1, 'coughing': 11, 'pain': 36, 'stiffness': 42, 'swelling': 43, 'redness': 39, 'wheezing': 51, 'learning': 28, 'disability': 13, 'epilepsy': 19, 'chronic': 9, 'blood': 5, 'discharge': 14, 'sneezing': 40, 'during': 18, 'urination': 46, 'genital': 23, 'palpitation': 37, 'weakness': 49, 'faster': 20, 'heartbeat': 25, 'nasal': 33, 'dryness': 17, 'sore': 41, 'throat': 44, 'abdominal': 0, 'weight': 50, 'loss': 29, 'chills': 8, 'chest': 7, 'back': 2, 'tired': 45, 'blindness': 4, 'blurred': 6, 'vision': 47, 'dry': 16, 'mouth': 31, 'paralysis': 38, 'dizziness': 15, 'memory': 30, 'nose': 35, 'bleed': 3, 'jaundice': 27, 'constipation': 10}\n",
      "[[0 0 0 0 0 0 0 0 0 0 0 0 0 0 0 0 0 0 0 0 0 0 0 0 0 0 0 0 0 0 0 0 0 0 0 0\n",
      "  0 0 0 0 0 0 0 0 0 0 0 0 0 0 0 0]]\n",
      "done preprocessing!!\n",
      "[[0.1448541  0.01186425 0.11396456 0.01180082 0.01776061 0.15436143\n",
      "  0.02536463 0.03062479 0.0393251  0.04139596 0.06741789 0.00456232\n",
      "  0.01586684 0.06107771 0.02593059 0.00626795 0.07063641 0.15692401]]\n",
      "17\n",
      "tuberculosis\n",
      "Prediction done\n"
     ]
    },
    {
     "name": "stderr",
     "output_type": "stream",
     "text": [
      "C:\\Users\\SiSharma\\AppData\\Local\\Continuum\\anaconda3\\envs\\tensorflow\\lib\\site-packages\\sklearn\\preprocessing\\label.py:151: DeprecationWarning: The truth value of an empty array is ambiguous. Returning False, but in future this will result in an error. Use `array.size > 0` to check that an array is not empty.\n",
      "  if diff:\n",
      "172.26.41.251 - - [20/Mar/2018 20:03:41] \"\u001b[37mPOST /predict HTTP/1.1\u001b[0m\" 200 -\n"
     ]
    },
    {
     "name": "stdout",
     "output_type": "stream",
     "text": [
      "sneezing\n",
      "code related to preprocessing the get request will be put here\n",
      "{'headache': 24, 'nausea': 34, 'vomiting': 48, 'high': 26, 'fever': 22, 'diarrhea': 12, 'fatigue': 21, 'muscle': 32, 'aches': 1, 'coughing': 11, 'pain': 36, 'stiffness': 42, 'swelling': 43, 'redness': 39, 'wheezing': 51, 'learning': 28, 'disability': 13, 'epilepsy': 19, 'chronic': 9, 'blood': 5, 'discharge': 14, 'sneezing': 40, 'during': 18, 'urination': 46, 'genital': 23, 'palpitation': 37, 'weakness': 49, 'faster': 20, 'heartbeat': 25, 'nasal': 33, 'dryness': 17, 'sore': 41, 'throat': 44, 'abdominal': 0, 'weight': 50, 'loss': 29, 'chills': 8, 'chest': 7, 'back': 2, 'tired': 45, 'blindness': 4, 'blurred': 6, 'vision': 47, 'dry': 16, 'mouth': 31, 'paralysis': 38, 'dizziness': 15, 'memory': 30, 'nose': 35, 'bleed': 3, 'jaundice': 27, 'constipation': 10}\n",
      "[[0 0 0 0 0 0 0 0 0 0 0 0 0 0 0 0 0 0 0 0 0 0 0 0 0 0 0 0 0 0 0 0 0 0 0 0\n",
      "  0 0 0 0 1 0 0 0 0 0 0 0 0 0 0 0]]\n",
      "done preprocessing!!\n",
      "[[2.4588555e-03 9.6945785e-02 2.0689471e-04 2.7579788e-02 1.6478702e-02\n",
      "  1.9134650e-01 2.0037794e-02 2.2064498e-01 2.2867549e-05 1.3480753e-02\n",
      "  8.9345867e-06 1.7142951e-04 6.2628438e-05 4.8207063e-03 5.9497287e-03\n",
      "  3.4659893e-06 3.1536070e-01 8.4419526e-02]]\n",
      "16\n",
      "thyroid\n",
      "Prediction done\n"
     ]
    },
    {
     "name": "stderr",
     "output_type": "stream",
     "text": [
      "C:\\Users\\SiSharma\\AppData\\Local\\Continuum\\anaconda3\\envs\\tensorflow\\lib\\site-packages\\sklearn\\preprocessing\\label.py:151: DeprecationWarning: The truth value of an empty array is ambiguous. Returning False, but in future this will result in an error. Use `array.size > 0` to check that an array is not empty.\n",
      "  if diff:\n",
      "172.26.41.251 - - [20/Mar/2018 20:03:52] \"\u001b[37mPOST /predict HTTP/1.1\u001b[0m\" 200 -\n"
     ]
    },
    {
     "name": "stdout",
     "output_type": "stream",
     "text": [
      "sneezing,cough\n",
      "code related to preprocessing the get request will be put here\n",
      "{'headache': 24, 'nausea': 34, 'vomiting': 48, 'high': 26, 'fever': 22, 'diarrhea': 12, 'fatigue': 21, 'muscle': 32, 'aches': 1, 'coughing': 11, 'pain': 36, 'stiffness': 42, 'swelling': 43, 'redness': 39, 'wheezing': 51, 'learning': 28, 'disability': 13, 'epilepsy': 19, 'chronic': 9, 'blood': 5, 'discharge': 14, 'sneezing': 40, 'during': 18, 'urination': 46, 'genital': 23, 'palpitation': 37, 'weakness': 49, 'faster': 20, 'heartbeat': 25, 'nasal': 33, 'dryness': 17, 'sore': 41, 'throat': 44, 'abdominal': 0, 'weight': 50, 'loss': 29, 'chills': 8, 'chest': 7, 'back': 2, 'tired': 45, 'blindness': 4, 'blurred': 6, 'vision': 47, 'dry': 16, 'mouth': 31, 'paralysis': 38, 'dizziness': 15, 'memory': 30, 'nose': 35, 'bleed': 3, 'jaundice': 27, 'constipation': 10}\n",
      "[[0 0 0 0 0 0 0 0 0 0 0 0 0 0 0 0 0 0 0 0 0 0 0 0 0 0 0 0 0 0 0 0 0 0 0 0\n",
      "  0 0 0 0 1 0 0 0 0 0 0 0 0 0 0 0]]\n",
      "done preprocessing!!\n",
      "[[2.4588555e-03 9.6945785e-02 2.0689471e-04 2.7579788e-02 1.6478702e-02\n",
      "  1.9134650e-01 2.0037794e-02 2.2064498e-01 2.2867549e-05 1.3480753e-02\n",
      "  8.9345867e-06 1.7142951e-04 6.2628438e-05 4.8207063e-03 5.9497287e-03\n",
      "  3.4659893e-06 3.1536070e-01 8.4419526e-02]]\n",
      "16\n",
      "thyroid\n",
      "Prediction done\n"
     ]
    },
    {
     "name": "stderr",
     "output_type": "stream",
     "text": [
      "C:\\Users\\SiSharma\\AppData\\Local\\Continuum\\anaconda3\\envs\\tensorflow\\lib\\site-packages\\sklearn\\preprocessing\\label.py:151: DeprecationWarning: The truth value of an empty array is ambiguous. Returning False, but in future this will result in an error. Use `array.size > 0` to check that an array is not empty.\n",
      "  if diff:\n",
      "172.26.41.251 - - [20/Mar/2018 20:04:00] \"\u001b[37mPOST /predict HTTP/1.1\u001b[0m\" 200 -\n"
     ]
    },
    {
     "name": "stdout",
     "output_type": "stream",
     "text": [
      "sneezing,cough,chest pain\n",
      "code related to preprocessing the get request will be put here\n",
      "{'headache': 24, 'nausea': 34, 'vomiting': 48, 'high': 26, 'fever': 22, 'diarrhea': 12, 'fatigue': 21, 'muscle': 32, 'aches': 1, 'coughing': 11, 'pain': 36, 'stiffness': 42, 'swelling': 43, 'redness': 39, 'wheezing': 51, 'learning': 28, 'disability': 13, 'epilepsy': 19, 'chronic': 9, 'blood': 5, 'discharge': 14, 'sneezing': 40, 'during': 18, 'urination': 46, 'genital': 23, 'palpitation': 37, 'weakness': 49, 'faster': 20, 'heartbeat': 25, 'nasal': 33, 'dryness': 17, 'sore': 41, 'throat': 44, 'abdominal': 0, 'weight': 50, 'loss': 29, 'chills': 8, 'chest': 7, 'back': 2, 'tired': 45, 'blindness': 4, 'blurred': 6, 'vision': 47, 'dry': 16, 'mouth': 31, 'paralysis': 38, 'dizziness': 15, 'memory': 30, 'nose': 35, 'bleed': 3, 'jaundice': 27, 'constipation': 10}\n",
      "[[0 0 0 0 0 0 0 1 0 0 0 0 0 0 0 0 0 0 0 0 0 0 0 0 0 0 0 0 0 0 0 0 0 0 0 0\n",
      "  1 0 0 0 1 0 0 0 0 0 0 0 0 0 0 0]]\n",
      "done preprocessing!!\n",
      "[[2.4493292e-03 8.4791210e-04 2.1127991e-04 3.3951516e-03 2.1249335e-02\n",
      "  8.0221426e-01 6.1034799e-02 1.1739620e-03 2.2907591e-06 3.8306373e-03\n",
      "  1.3558715e-06 2.0044836e-05 5.1188721e-07 2.8107766e-04 8.4924826e-04\n",
      "  6.0621034e-07 6.9952391e-02 3.2485869e-02]]\n",
      "5\n",
      "cancer\n",
      "Prediction done\n"
     ]
    },
    {
     "name": "stderr",
     "output_type": "stream",
     "text": [
      "C:\\Users\\SiSharma\\AppData\\Local\\Continuum\\anaconda3\\envs\\tensorflow\\lib\\site-packages\\sklearn\\preprocessing\\label.py:151: DeprecationWarning: The truth value of an empty array is ambiguous. Returning False, but in future this will result in an error. Use `array.size > 0` to check that an array is not empty.\n",
      "  if diff:\n",
      "172.26.41.251 - - [20/Mar/2018 20:06:29] \"\u001b[37mPOST /predict HTTP/1.1\u001b[0m\" 200 -\n"
     ]
    },
    {
     "name": "stdout",
     "output_type": "stream",
     "text": [
      "fever\n",
      "code related to preprocessing the get request will be put here\n",
      "{'headache': 24, 'nausea': 34, 'vomiting': 48, 'high': 26, 'fever': 22, 'diarrhea': 12, 'fatigue': 21, 'muscle': 32, 'aches': 1, 'coughing': 11, 'pain': 36, 'stiffness': 42, 'swelling': 43, 'redness': 39, 'wheezing': 51, 'learning': 28, 'disability': 13, 'epilepsy': 19, 'chronic': 9, 'blood': 5, 'discharge': 14, 'sneezing': 40, 'during': 18, 'urination': 46, 'genital': 23, 'palpitation': 37, 'weakness': 49, 'faster': 20, 'heartbeat': 25, 'nasal': 33, 'dryness': 17, 'sore': 41, 'throat': 44, 'abdominal': 0, 'weight': 50, 'loss': 29, 'chills': 8, 'chest': 7, 'back': 2, 'tired': 45, 'blindness': 4, 'blurred': 6, 'vision': 47, 'dry': 16, 'mouth': 31, 'paralysis': 38, 'dizziness': 15, 'memory': 30, 'nose': 35, 'bleed': 3, 'jaundice': 27, 'constipation': 10}\n",
      "[[0 0 0 0 0 0 0 0 0 0 0 0 0 0 0 0 0 0 0 0 0 0 1 0 0 0 0 0 0 0 0 0 0 0 0 0\n",
      "  0 0 0 0 0 0 0 0 0 0 0 0 0 0 0 0]]\n",
      "done preprocessing!!\n",
      "[[3.9833343e-01 7.7261000e-05 3.4137663e-02 3.9810020e-05 1.5726620e-03\n",
      "  2.3299687e-01 8.8793803e-03 1.1246637e-03 3.6735658e-02 3.5348557e-02\n",
      "  6.2616117e-02 6.4734428e-05 4.8873504e-04 2.2752680e-02 6.6020996e-03\n",
      "  2.5556821e-04 1.2067262e-02 1.4590681e-01]]\n",
      "0\n",
      "ASD\n",
      "Prediction done\n"
     ]
    },
    {
     "name": "stderr",
     "output_type": "stream",
     "text": [
      "C:\\Users\\SiSharma\\AppData\\Local\\Continuum\\anaconda3\\envs\\tensorflow\\lib\\site-packages\\sklearn\\preprocessing\\label.py:151: DeprecationWarning: The truth value of an empty array is ambiguous. Returning False, but in future this will result in an error. Use `array.size > 0` to check that an array is not empty.\n",
      "  if diff:\n",
      "172.26.41.251 - - [20/Mar/2018 20:12:25] \"\u001b[37mPOST /predict HTTP/1.1\u001b[0m\" 200 -\n"
     ]
    },
    {
     "name": "stdout",
     "output_type": "stream",
     "text": [
      "headache\n",
      "code related to preprocessing the get request will be put here\n",
      "{'headache': 24, 'nausea': 34, 'vomiting': 48, 'high': 26, 'fever': 22, 'diarrhea': 12, 'fatigue': 21, 'muscle': 32, 'aches': 1, 'coughing': 11, 'pain': 36, 'stiffness': 42, 'swelling': 43, 'redness': 39, 'wheezing': 51, 'learning': 28, 'disability': 13, 'epilepsy': 19, 'chronic': 9, 'blood': 5, 'discharge': 14, 'sneezing': 40, 'during': 18, 'urination': 46, 'genital': 23, 'palpitation': 37, 'weakness': 49, 'faster': 20, 'heartbeat': 25, 'nasal': 33, 'dryness': 17, 'sore': 41, 'throat': 44, 'abdominal': 0, 'weight': 50, 'loss': 29, 'chills': 8, 'chest': 7, 'back': 2, 'tired': 45, 'blindness': 4, 'blurred': 6, 'vision': 47, 'dry': 16, 'mouth': 31, 'paralysis': 38, 'dizziness': 15, 'memory': 30, 'nose': 35, 'bleed': 3, 'jaundice': 27, 'constipation': 10}\n",
      "[[0 0 0 0 0 0 0 0 0 0 0 0 0 0 0 0 0 0 0 0 0 0 0 0 1 0 0 0 0 0 0 0 0 0 0 0\n",
      "  0 0 0 0 0 0 0 0 0 0 0 0 0 0 0 0]]\n",
      "done preprocessing!!\n",
      "[[2.07411855e-01 8.74950929e-05 3.87623012e-02 1.19340784e-05\n",
      "  5.52941463e-04 1.09277055e-01 5.88426879e-03 1.06838567e-03\n",
      "  2.72365585e-02 3.06658596e-02 2.62957215e-02 2.32859747e-05\n",
      "  2.75685888e-04 1.68649126e-02 5.63287269e-03 6.98934164e-05\n",
      "  1.73027478e-02 5.12576222e-01]]\n",
      "17\n",
      "tuberculosis\n",
      "Prediction done\n"
     ]
    },
    {
     "name": "stderr",
     "output_type": "stream",
     "text": [
      "C:\\Users\\SiSharma\\AppData\\Local\\Continuum\\anaconda3\\envs\\tensorflow\\lib\\site-packages\\sklearn\\preprocessing\\label.py:151: DeprecationWarning: The truth value of an empty array is ambiguous. Returning False, but in future this will result in an error. Use `array.size > 0` to check that an array is not empty.\n",
      "  if diff:\n",
      "172.26.41.251 - - [20/Mar/2018 20:12:59] \"\u001b[37mPOST /predict HTTP/1.1\u001b[0m\" 200 -\n"
     ]
    },
    {
     "name": "stdout",
     "output_type": "stream",
     "text": [
      "muscle aches,chills,nausea,vomiting,high fever\n",
      "code related to preprocessing the get request will be put here\n",
      "{'headache': 24, 'nausea': 34, 'vomiting': 48, 'high': 26, 'fever': 22, 'diarrhea': 12, 'fatigue': 21, 'muscle': 32, 'aches': 1, 'coughing': 11, 'pain': 36, 'stiffness': 42, 'swelling': 43, 'redness': 39, 'wheezing': 51, 'learning': 28, 'disability': 13, 'epilepsy': 19, 'chronic': 9, 'blood': 5, 'discharge': 14, 'sneezing': 40, 'during': 18, 'urination': 46, 'genital': 23, 'palpitation': 37, 'weakness': 49, 'faster': 20, 'heartbeat': 25, 'nasal': 33, 'dryness': 17, 'sore': 41, 'throat': 44, 'abdominal': 0, 'weight': 50, 'loss': 29, 'chills': 8, 'chest': 7, 'back': 2, 'tired': 45, 'blindness': 4, 'blurred': 6, 'vision': 47, 'dry': 16, 'mouth': 31, 'paralysis': 38, 'dizziness': 15, 'memory': 30, 'nose': 35, 'bleed': 3, 'jaundice': 27, 'constipation': 10}\n",
      "[[0 1 0 0 0 0 0 0 1 0 0 0 0 0 0 0 0 0 0 0 0 0 1 0 0 0 1 0 0 0 0 0 1 0 1 0\n",
      "  0 0 0 0 0 0 0 0 0 0 0 0 1 0 0 0]]\n",
      "done preprocessing!!\n",
      "[[3.4204293e-06 1.6386637e-01 7.5023381e-05 1.5899701e-07 1.3240714e-06\n",
      "  2.0178560e-07 1.6461364e-07 1.7598982e-03 1.2755045e-03 7.9574667e-05\n",
      "  1.4702648e-05 2.3971526e-05 8.3268940e-01 3.6257592e-05 1.0316201e-05\n",
      "  7.0542528e-06 3.4899213e-06 1.5321051e-04]]\n",
      "12\n",
      "malaria\n",
      "Prediction done\n"
     ]
    },
    {
     "name": "stderr",
     "output_type": "stream",
     "text": [
      "C:\\Users\\SiSharma\\AppData\\Local\\Continuum\\anaconda3\\envs\\tensorflow\\lib\\site-packages\\sklearn\\preprocessing\\label.py:151: DeprecationWarning: The truth value of an empty array is ambiguous. Returning False, but in future this will result in an error. Use `array.size > 0` to check that an array is not empty.\n",
      "  if diff:\n",
      "172.26.41.251 - - [20/Mar/2018 20:15:15] \"\u001b[37mPOST /predict HTTP/1.1\u001b[0m\" 200 -\n"
     ]
    },
    {
     "name": "stdout",
     "output_type": "stream",
     "text": [
      "headache\n",
      "code related to preprocessing the get request will be put here\n",
      "{'headache': 24, 'nausea': 34, 'vomiting': 48, 'high': 26, 'fever': 22, 'diarrhea': 12, 'fatigue': 21, 'muscle': 32, 'aches': 1, 'coughing': 11, 'pain': 36, 'stiffness': 42, 'swelling': 43, 'redness': 39, 'wheezing': 51, 'learning': 28, 'disability': 13, 'epilepsy': 19, 'chronic': 9, 'blood': 5, 'discharge': 14, 'sneezing': 40, 'during': 18, 'urination': 46, 'genital': 23, 'palpitation': 37, 'weakness': 49, 'faster': 20, 'heartbeat': 25, 'nasal': 33, 'dryness': 17, 'sore': 41, 'throat': 44, 'abdominal': 0, 'weight': 50, 'loss': 29, 'chills': 8, 'chest': 7, 'back': 2, 'tired': 45, 'blindness': 4, 'blurred': 6, 'vision': 47, 'dry': 16, 'mouth': 31, 'paralysis': 38, 'dizziness': 15, 'memory': 30, 'nose': 35, 'bleed': 3, 'jaundice': 27, 'constipation': 10}\n",
      "[[0 0 0 0 0 0 0 0 0 0 0 0 0 0 0 0 0 0 0 0 0 0 0 0 1 0 0 0 0 0 0 0 0 0 0 0\n",
      "  0 0 0 0 0 0 0 0 0 0 0 0 0 0 0 0]]\n",
      "done preprocessing!!\n",
      "[[2.07411855e-01 8.74950929e-05 3.87623012e-02 1.19340784e-05\n",
      "  5.52941463e-04 1.09277055e-01 5.88426879e-03 1.06838567e-03\n",
      "  2.72365585e-02 3.06658596e-02 2.62957215e-02 2.32859747e-05\n",
      "  2.75685888e-04 1.68649126e-02 5.63287269e-03 6.98934164e-05\n",
      "  1.73027478e-02 5.12576222e-01]]\n",
      "17\n",
      "tuberculosis\n",
      "Prediction done\n"
     ]
    },
    {
     "name": "stderr",
     "output_type": "stream",
     "text": [
      "C:\\Users\\SiSharma\\AppData\\Local\\Continuum\\anaconda3\\envs\\tensorflow\\lib\\site-packages\\sklearn\\preprocessing\\label.py:151: DeprecationWarning: The truth value of an empty array is ambiguous. Returning False, but in future this will result in an error. Use `array.size > 0` to check that an array is not empty.\n",
      "  if diff:\n",
      "172.26.41.251 - - [20/Mar/2018 20:15:35] \"\u001b[37mPOST /predict HTTP/1.1\u001b[0m\" 200 -\n"
     ]
    },
    {
     "name": "stdout",
     "output_type": "stream",
     "text": [
      "vomiting,high fever,headache\n",
      "code related to preprocessing the get request will be put here\n",
      "{'headache': 24, 'nausea': 34, 'vomiting': 48, 'high': 26, 'fever': 22, 'diarrhea': 12, 'fatigue': 21, 'muscle': 32, 'aches': 1, 'coughing': 11, 'pain': 36, 'stiffness': 42, 'swelling': 43, 'redness': 39, 'wheezing': 51, 'learning': 28, 'disability': 13, 'epilepsy': 19, 'chronic': 9, 'blood': 5, 'discharge': 14, 'sneezing': 40, 'during': 18, 'urination': 46, 'genital': 23, 'palpitation': 37, 'weakness': 49, 'faster': 20, 'heartbeat': 25, 'nasal': 33, 'dryness': 17, 'sore': 41, 'throat': 44, 'abdominal': 0, 'weight': 50, 'loss': 29, 'chills': 8, 'chest': 7, 'back': 2, 'tired': 45, 'blindness': 4, 'blurred': 6, 'vision': 47, 'dry': 16, 'mouth': 31, 'paralysis': 38, 'dizziness': 15, 'memory': 30, 'nose': 35, 'bleed': 3, 'jaundice': 27, 'constipation': 10}\n",
      "[[0 0 0 0 0 0 0 0 0 0 0 0 0 0 0 0 0 0 0 0 0 0 1 0 1 0 1 0 0 0 0 0 0 0 0 0\n",
      "  0 0 0 0 0 0 0 0 0 0 0 0 1 0 0 0]]\n",
      "done preprocessing!!\n",
      "[[2.0047110e-04 2.1897099e-04 7.6749301e-01 1.6498639e-06 2.3260454e-05\n",
      "  1.5538954e-04 6.5548680e-05 2.7115628e-04 5.2312799e-03 8.5560395e-04\n",
      "  9.9159498e-04 2.5765016e-06 8.8254450e-04 1.8868257e-03 1.2670000e-04\n",
      "  5.9784437e-05 1.4368634e-04 2.2139008e-01]]\n",
      "2\n",
      "alzheimer disease\n",
      "Prediction done\n"
     ]
    },
    {
     "name": "stderr",
     "output_type": "stream",
     "text": [
      "172.26.44.241 - - [20/Mar/2018 20:21:37] \"\u001b[33mGET / HTTP/1.1\u001b[0m\" 404 -\n",
      "C:\\Users\\SiSharma\\AppData\\Local\\Continuum\\anaconda3\\envs\\tensorflow\\lib\\site-packages\\sklearn\\preprocessing\\label.py:151: DeprecationWarning: The truth value of an empty array is ambiguous. Returning False, but in future this will result in an error. Use `array.size > 0` to check that an array is not empty.\n",
      "  if diff:\n",
      "172.26.41.251 - - [20/Mar/2018 20:58:35] \"\u001b[37mPOST /predict HTTP/1.1\u001b[0m\" 200 -\n"
     ]
    },
    {
     "name": "stdout",
     "output_type": "stream",
     "text": [
      "chitya\n",
      "code related to preprocessing the get request will be put here\n",
      "{'headache': 24, 'nausea': 34, 'vomiting': 48, 'high': 26, 'fever': 22, 'diarrhea': 12, 'fatigue': 21, 'muscle': 32, 'aches': 1, 'coughing': 11, 'pain': 36, 'stiffness': 42, 'swelling': 43, 'redness': 39, 'wheezing': 51, 'learning': 28, 'disability': 13, 'epilepsy': 19, 'chronic': 9, 'blood': 5, 'discharge': 14, 'sneezing': 40, 'during': 18, 'urination': 46, 'genital': 23, 'palpitation': 37, 'weakness': 49, 'faster': 20, 'heartbeat': 25, 'nasal': 33, 'dryness': 17, 'sore': 41, 'throat': 44, 'abdominal': 0, 'weight': 50, 'loss': 29, 'chills': 8, 'chest': 7, 'back': 2, 'tired': 45, 'blindness': 4, 'blurred': 6, 'vision': 47, 'dry': 16, 'mouth': 31, 'paralysis': 38, 'dizziness': 15, 'memory': 30, 'nose': 35, 'bleed': 3, 'jaundice': 27, 'constipation': 10}\n",
      "[[0 0 0 0 0 0 0 0 0 0 0 0 0 0 0 0 0 0 0 0 0 0 0 0 0 0 0 0 0 0 0 0 0 0 0 0\n",
      "  0 0 0 0 0 0 0 0 0 0 0 0 0 0 0 0]]\n",
      "done preprocessing!!\n",
      "[[0.1448541  0.01186425 0.11396456 0.01180082 0.01776061 0.15436143\n",
      "  0.02536463 0.03062479 0.0393251  0.04139596 0.06741789 0.00456232\n",
      "  0.01586684 0.06107771 0.02593059 0.00626795 0.07063641 0.15692401]]\n",
      "17\n",
      "tuberculosis\n",
      "Prediction done\n"
     ]
    }
   ],
   "source": [
    "if __name__ == \"__main__\":\n",
    "    print((\"* Loading Keras model and Flask starting server...\"\n",
    "        \"please wait until server has fully started\"))\n",
    "    load_model()\n",
    "    app.run(host ='0.0.0.0',port=5000)"
   ]
  },
  {
   "cell_type": "code",
   "execution_count": null,
   "metadata": {},
   "outputs": [],
   "source": []
  }
 ],
 "metadata": {
  "kernelspec": {
   "display_name": "Python 3",
   "language": "python",
   "name": "python3"
  },
  "language_info": {
   "codemirror_mode": {
    "name": "ipython",
    "version": 3
   },
   "file_extension": ".py",
   "mimetype": "text/x-python",
   "name": "python",
   "nbconvert_exporter": "python",
   "pygments_lexer": "ipython3",
   "version": "3.6.2"
  }
 },
 "nbformat": 4,
 "nbformat_minor": 2
}
