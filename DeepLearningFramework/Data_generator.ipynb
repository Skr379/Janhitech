{
 "cells": [
  {
   "cell_type": "code",
   "execution_count": 1,
   "metadata": {},
   "outputs": [],
   "source": [
    "import csv\n",
    "from random import randint"
   ]
  },
  {
   "cell_type": "code",
   "execution_count": 2,
   "metadata": {},
   "outputs": [],
   "source": [
    "diseases= [\"arthritis\",\"asthma\",\"ASD\",\"cancer\",\"chlamydia\",\"ebola\",\"diabetes\",\"malaria\",\"HIV\",\"cirrhosis\",\"migraine\", \n",
    "           \"heart disease\",\"rhinovirus\",\"influenza\",\"stroke\",\"alzheimer disease\",\"tuberculosis\",\"thyroid\"]"
   ]
  },
  {
   "cell_type": "code",
   "execution_count": 3,
   "metadata": {},
   "outputs": [],
   "source": [
    "symptoms= [\"headache\",\"nausea\",\"vomiting\",\"high fever\",\"diarrhea\",\"fatigue\",\"muscle aches\",\"coughing\",\"pain\",\"stiffness\",\n",
    "           \"swelling\",\"redness\",\"wheezing\",\"learning disability\",\"epilepsy\",\"chronic pain\",\"blood discharge\",\"sneezing\",\n",
    "           \"pain during urination\",\"genital pain\",\"palpitation\",\"weakness\",\"faster heartbeat\", \"nasal dryness\",\"sore throat\",\n",
    "           \"abdominal pain\",\"weight loss\",\"chills\",\"chest pain\",\"back pain\",\"tired\",\"blindness\",\"blurred vision\",\"dry mouth\",\n",
    "           \"paralysis\",\"dizziness\",\"memory loss\",\"nose bleed\",\"jaundice\",\"constipation\"]"
   ]
  },
  {
   "cell_type": "code",
   "execution_count": 4,
   "metadata": {},
   "outputs": [],
   "source": [
    "disease_associations= {}\n",
    "disease_associations['arthritis'] = {'pain', 'stiffness', 'swelling', 'redness'}\n",
    "\n",
    "disease_associations['asthma'] = {'chest pain','coughing','wheezing'}\n",
    "\n",
    "disease_associations['ASD'] = {'epilepsy', 'learning disability'}\n",
    "\n",
    "disease_associations['cancer'] = {'chronic pain', 'swelling', 'blood discharge'}\n",
    "\n",
    "disease_associations['chlamydia'] = {'pain during urination', 'blood discharge'}\n",
    "\n",
    "disease_associations['ebola'] = {'fever', 'headache', 'muscle aches', 'diarrhea'}\n",
    "\n",
    "disease_associations['diabetes'] = {'blurred vision', 'dry mouth', 'fatigue', 'nausea', 'vomiting'}\n",
    "\n",
    "disease_associations['malaria'] = {'high fever', 'headache', 'nausea', 'vomiting', 'muscle aches', 'chills'}\n",
    "\n",
    "disease_associations['HIV'] = {'nausea', 'fatigue', 'vomiting', 'muscle aches', 'genital pain'}\n",
    "\n",
    "disease_associations['heart disease'] = {'palpitation', 'weakness', 'faster heartbeat', 'sweating'}\n",
    "\n",
    "disease_associations['rhinovirus'] = {'nasal dryness', 'sore throat', 'headache', 'sneezing'}\n",
    "\n",
    "disease_associations['influenza'] = {'high fever', 'headache', 'muscle aches', 'weakness', 'sore throat', 'coughing'}\n",
    "\n",
    "disease_associations['stroke'] = {'weakness', 'paralysis', 'dizziness', 'headache', 'blurred vision'}\n",
    "\n",
    "disease_associations['alzheimer disease'] = {'memory loss', 'blurry vision'}\n",
    "\n",
    "disease_associations['tuberculosis'] = {'coughing', 'chest pain', 'fatigue', 'fever', 'blood discharge'}\n",
    "\n",
    "disease_associations['cirrhosis'] = {'nose bleed', 'weight loss', 'jaundice'}\n",
    "\n",
    "disease_associations['thyroid'] = {'fatigue', 'constipation', 'chills', 'muscle aches'}\n",
    "\n",
    "disease_associations['migraine'] = {'constipation', 'tired', 'headache'}"
   ]
  },
  {
   "cell_type": "code",
   "execution_count": 30,
   "metadata": {},
   "outputs": [],
   "source": [
    "def generator(disease_associations, diseases, symptoms, noise=5):\n",
    "    with open('record.csv', 'w', newline='') as csvfile:\n",
    "        fieldnames = ['symptoms', 'disease']\n",
    "        writer = csv.DictWriter(csvfile, fieldnames=fieldnames)\n",
    "        writer.writeheader()\n",
    "        for i in range(1,100000):\n",
    "            rID = randint(0, 17)\n",
    "            if i%7 == 0:\n",
    "                if rID==17:\n",
    "                    writer.writerow({'symptoms':disease_associations[diseases[rID]], 'disease':diseases[rID-1]})\n",
    "                else:\n",
    "                    writer.writerow({'symptoms':disease_associations[diseases[rID]], 'disease':diseases[rID+1]})\n",
    "            else:\n",
    "                writer.writerow({'symptoms':disease_associations[diseases[rID]], 'disease':diseases[rID]})\n",
    "    return;\n"
   ]
  },
  {
   "cell_type": "code",
   "execution_count": 31,
   "metadata": {},
   "outputs": [
    {
     "name": "stdout",
     "output_type": "stream",
     "text": [
      "{'arthritis': {'pain', 'swelling', 'stiffness', 'redness'}, 'asthma': {'wheezing', 'coughing', 'chest pain'}, 'ASD': {'learning disability', 'epilepsy'}, 'cancer': {'swelling', 'blood discharge', 'chronic pain'}, 'chlamydia': {'pain during urination', 'blood discharge'}, 'ebola': {'muscle aches', 'fever', 'headache', 'diarrhea'}, 'diabetes': {'dry mouth', 'blurred vision', 'vomiting', 'nausea', 'fatigue'}, 'malaria': {'muscle aches', 'chills', 'nausea', 'vomiting', 'high fever', 'headache'}, 'HIV': {'muscle aches', 'nausea', 'vomiting', 'fatigue', 'genital pain'}, 'heart disease': {'palpitation', 'weakness', 'faster heartbeat', 'sweating'}, 'rhinovirus': {'sneezing', 'nasal dryness', 'sore throat', 'headache'}, 'influenza': {'muscle aches', 'weakness', 'sore throat', 'high fever', 'coughing', 'headache'}, 'stroke': {'dizziness', 'blurred vision', 'weakness', 'paralysis', 'headache'}, 'alzheimer disease': {'memory loss', 'blurry vision'}, 'tuberculosis': {'blood discharge', 'coughing', 'fever', 'fatigue', 'chest pain'}, 'cirrhosis': {'jaundice', 'weight loss', 'nose bleed'}, 'thyroid': {'fatigue', 'muscle aches', 'chills', 'constipation'}, 'migraine': {'tired', 'constipation', 'headache'}}\n"
     ]
    }
   ],
   "source": [
    "if __name__== \"__main__\":\n",
    "    print(disease_associations)\n",
    "    generator(disease_associations, diseases, symptoms, 5)"
   ]
  },
  {
   "cell_type": "code",
   "execution_count": null,
   "metadata": {},
   "outputs": [],
   "source": []
  }
 ],
 "metadata": {
  "kernelspec": {
   "display_name": "Python 3",
   "language": "python",
   "name": "python3"
  },
  "language_info": {
   "codemirror_mode": {
    "name": "ipython",
    "version": 3
   },
   "file_extension": ".py",
   "mimetype": "text/x-python",
   "name": "python",
   "nbconvert_exporter": "python",
   "pygments_lexer": "ipython3",
   "version": "3.6.2"
  }
 },
 "nbformat": 4,
 "nbformat_minor": 2
}
